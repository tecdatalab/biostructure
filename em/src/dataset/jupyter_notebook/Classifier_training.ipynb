{
  "nbformat": 4,
  "nbformat_minor": 0,
  "metadata": {
    "kernelspec": {
      "display_name": "Python 3.6.8 64-bit",
      "language": "python",
      "name": "python36864bite7cbf19c410f44d2bb1f5ce89c2df23d"
    },
    "language_info": {
      "codemirror_mode": {
        "name": "ipython",
        "version": 3
      },
      "file_extension": ".py",
      "mimetype": "text/x-python",
      "name": "python",
      "nbconvert_exporter": "python",
      "pygments_lexer": "ipython3",
      "version": "3.6.9"
    },
    "colab": {
      "name": "EMDB_EM_MAP_Segmentation.ipynb",
      "provenance": [],
      "collapsed_sections": [],
      "toc_visible": true
    }
  },
  "cells": [
    {
      "cell_type": "markdown",
      "metadata": {
        "id": "nZU-Otbj1Vu9"
      },
      "source": [
        "# EMDB dataset exploration\n",
        "## For the task of EM Map subunit segmentation \n",
        "\n"
      ]
    },
    {
      "cell_type": "markdown",
      "metadata": {
        "id": "_-fWlrnx1VvD"
      },
      "source": [
        "### Import required libraries"
      ]
    },
    {
      "cell_type": "code",
      "metadata": {
        "colab": {
          "base_uri": "https://localhost:8080/",
          "height": 903
        },
        "id": "EfexQVdW26I7",
        "outputId": "03cb5c8e-b2ea-4f98-b5f7-dc7705e44da6"
      },
      "source": [
        "!sudo apt-get update\n",
        "!pip install SciencePlots\n",
        "!pip install scikit-learn==0.23.1\n",
        "!sudo apt install fonts-noto-cjk\n",
        "!sudo apt-get install dvipng texlive-latex-extra texlive-fonts-recommended cm-super\n",
        "\n"
      ],
      "execution_count": null,
      "outputs": [
        {
          "output_type": "stream",
          "text": [
            "\r0% [Working]\r            \rHit:1 http://security.ubuntu.com/ubuntu bionic-security InRelease\n",
            "\r0% [Connecting to archive.ubuntu.com (91.189.88.142)] [Connected to cloud.r-pro\r0% [1 InRelease gpgv 88.7 kB] [Connecting to archive.ubuntu.com (91.189.88.142)\r                                                                               \rIgn:2 https://developer.download.nvidia.com/compute/cuda/repos/ubuntu1804/x86_64  InRelease\n",
            "\r0% [1 InRelease gpgv 88.7 kB] [Waiting for headers] [Waiting for headers] [Wait\r                                                                               \rHit:3 https://cloud.r-project.org/bin/linux/ubuntu bionic-cran40/ InRelease\n",
            "\r0% [1 InRelease gpgv 88.7 kB] [Waiting for headers] [Waiting for headers] [Wait\r                                                                               \r0% [Waiting for headers] [Waiting for headers] [Waiting for headers]\r0% [3 InRelease gpgv 3,626 B] [Waiting for headers] [Waiting for headers] [Wait\r                                                                               \rHit:4 http://archive.ubuntu.com/ubuntu bionic InRelease\n",
            "\r0% [3 InRelease gpgv 3,626 B] [Waiting for headers] [Waiting for headers] [Wait\r                                                                               \rIgn:5 https://developer.download.nvidia.com/compute/machine-learning/repos/ubuntu1804/x86_64  InRelease\n",
            "\r                                                                               \r0% [3 InRelease gpgv 3,626 B] [Waiting for headers] [Waiting for headers]\r                                                                         \rHit:6 http://ppa.launchpad.net/c2d4u.team/c2d4u4.0+/ubuntu bionic InRelease\n",
            "Hit:7 https://developer.download.nvidia.com/compute/cuda/repos/ubuntu1804/x86_64  Release\n",
            "Hit:8 https://developer.download.nvidia.com/compute/machine-learning/repos/ubuntu1804/x86_64  Release\n",
            "Hit:9 http://archive.ubuntu.com/ubuntu bionic-updates InRelease\n",
            "Hit:10 http://archive.ubuntu.com/ubuntu bionic-backports InRelease\n",
            "Hit:11 http://ppa.launchpad.net/cran/libgit2/ubuntu bionic InRelease\n",
            "Hit:12 http://ppa.launchpad.net/deadsnakes/ppa/ubuntu bionic InRelease\n",
            "Hit:15 http://ppa.launchpad.net/graphics-drivers/ppa/ubuntu bionic InRelease\n",
            "Reading package lists... Done\n",
            "Requirement already satisfied: SciencePlots in /usr/local/lib/python3.7/dist-packages (1.0.7)\n",
            "Requirement already satisfied: matplotlib in /usr/local/lib/python3.7/dist-packages (from SciencePlots) (3.2.2)\n",
            "Requirement already satisfied: kiwisolver>=1.0.1 in /usr/local/lib/python3.7/dist-packages (from matplotlib->SciencePlots) (1.3.1)\n",
            "Requirement already satisfied: pyparsing!=2.0.4,!=2.1.2,!=2.1.6,>=2.0.1 in /usr/local/lib/python3.7/dist-packages (from matplotlib->SciencePlots) (2.4.7)\n",
            "Requirement already satisfied: numpy>=1.11 in /usr/local/lib/python3.7/dist-packages (from matplotlib->SciencePlots) (1.19.5)\n",
            "Requirement already satisfied: python-dateutil>=2.1 in /usr/local/lib/python3.7/dist-packages (from matplotlib->SciencePlots) (2.8.1)\n",
            "Requirement already satisfied: cycler>=0.10 in /usr/local/lib/python3.7/dist-packages (from matplotlib->SciencePlots) (0.10.0)\n",
            "Requirement already satisfied: six>=1.5 in /usr/local/lib/python3.7/dist-packages (from python-dateutil>=2.1->matplotlib->SciencePlots) (1.15.0)\n",
            "Collecting scikit-learn==0.23.1\n",
            "\u001b[?25l  Downloading https://files.pythonhosted.org/packages/b8/7e/74e707b66490d4eb05f702966ad0990881127acecf9d5cdcef3c95ec6c16/scikit_learn-0.23.1-cp37-cp37m-manylinux1_x86_64.whl (6.8MB)\n",
            "\u001b[K     |████████████████████████████████| 6.8MB 5.3MB/s \n",
            "\u001b[?25hRequirement already satisfied: joblib>=0.11 in /usr/local/lib/python3.7/dist-packages (from scikit-learn==0.23.1) (1.0.1)\n",
            "Requirement already satisfied: scipy>=0.19.1 in /usr/local/lib/python3.7/dist-packages (from scikit-learn==0.23.1) (1.4.1)\n",
            "Requirement already satisfied: numpy>=1.13.3 in /usr/local/lib/python3.7/dist-packages (from scikit-learn==0.23.1) (1.19.5)\n",
            "Collecting threadpoolctl>=2.0.0\n",
            "  Downloading https://files.pythonhosted.org/packages/f7/12/ec3f2e203afa394a149911729357aa48affc59c20e2c1c8297a60f33f133/threadpoolctl-2.1.0-py3-none-any.whl\n",
            "Installing collected packages: threadpoolctl, scikit-learn\n",
            "  Found existing installation: scikit-learn 0.22.2.post1\n",
            "    Uninstalling scikit-learn-0.22.2.post1:\n",
            "      Successfully uninstalled scikit-learn-0.22.2.post1\n",
            "Successfully installed scikit-learn-0.23.1 threadpoolctl-2.1.0\n"
          ],
          "name": "stdout"
        },
        {
          "output_type": "display_data",
          "data": {
            "application/vnd.colab-display-data+json": {
              "pip_warning": {
                "packages": [
                  "sklearn"
                ]
              }
            }
          },
          "metadata": {
            "tags": []
          }
        },
        {
          "output_type": "stream",
          "text": [
            "Reading package lists... Done\n",
            "Building dependency tree       \n",
            "Reading state information... Done\n",
            "fonts-noto-cjk is already the newest version (1:20190409+repack1-0ubuntu0.18.04).\n",
            "0 upgraded, 0 newly installed, 0 to remove and 53 not upgraded.\n",
            "Reading package lists... Done\n",
            "Building dependency tree       \n",
            "Reading state information... Done\n",
            "cm-super is already the newest version (0.3.4-11).\n",
            "dvipng is already the newest version (1.15-1).\n",
            "texlive-fonts-recommended is already the newest version (2017.20180305-1).\n",
            "texlive-latex-extra is already the newest version (2017.20180305-2).\n",
            "0 upgraded, 0 newly installed, 0 to remove and 53 not upgraded.\n"
          ],
          "name": "stdout"
        }
      ]
    },
    {
      "cell_type": "code",
      "metadata": {
        "id": "dQKTw0oB1VvE"
      },
      "source": [
        "import pandas as pd\n",
        "import numpy as np\n",
        "import matplotlib\n",
        "from matplotlib import pyplot as plt\n",
        "import seaborn as sns\n",
        "import json\n",
        "import time\n",
        "import pickle\n",
        "import matplotlib.font_manager as fm\n",
        "fm._rebuild()\n",
        "plt.style.reload_library()\n",
        "plt.style.use(['science'])\n"
      ],
      "execution_count": null,
      "outputs": []
    },
    {
      "cell_type": "markdown",
      "metadata": {
        "id": "OaWLuvVx1lju"
      },
      "source": [
        "# Read csv and display dataframe sample and statistics\n"
      ]
    },
    {
      "cell_type": "code",
      "metadata": {
        "colab": {
          "base_uri": "https://localhost:8080/",
          "height": 420
        },
        "id": "pL0ti6oz1VvF",
        "outputId": "f5b2d0f5-4101-44cd-8076-af4a79e6b4fb"
      },
      "source": [
        "emdb_df = pd.read_csv('dataset_metadata.csv')\n",
        "\n",
        "\n",
        "print(emdb_df.describe())\n",
        "emdb_df['subunit_count'].hist()"
      ],
      "execution_count": null,
      "outputs": [
        {
          "output_type": "stream",
          "text": [
            "        resolution  contourLevel  subunit_count\n",
            "count  1045.000000   1045.000000    1045.000000\n",
            "mean      6.569282     29.527889      13.120574\n",
            "std       1.633879    369.213033      11.755931\n",
            "min       4.500000      0.000000       2.000000\n",
            "25%       4.900000      0.023000       4.000000\n",
            "50%       6.350000      0.065000       9.000000\n",
            "75%       7.900000      1.200000      17.000000\n",
            "max      10.000000   9460.000000      80.000000\n"
          ],
          "name": "stdout"
        },
        {
          "output_type": "execute_result",
          "data": {
            "text/plain": [
              "<matplotlib.axes._subplots.AxesSubplot at 0x7f55a881b110>"
            ]
          },
          "metadata": {
            "tags": []
          },
          "execution_count": 2
        },
        {
          "output_type": "display_data",
          "data": {
            "image/png": "[encoded data removed]",
            "text/plain": [
              "<Figure size 432x288 with 1 Axes>"
            ]
          },
          "metadata": {
            "tags": [],
            "needs_background": "light"
          }
        }
      ]
    },
    {
      "cell_type": "code",
      "metadata": {
        "colab": {
          "base_uri": "https://localhost:8080/",
          "height": 436
        },
        "id": "b8lDogBuqeQu",
        "outputId": "f3eca455-f8df-4861-b788-a5b2abd85c71"
      },
      "source": [
        "selected_df = pd.read_csv('dataset_selected.csv')\n",
        "\n",
        "print(selected_df.describe())\n",
        "selected_df['subunit_count'].hist()\n",
        "\n",
        "\n",
        "maps_to_remove = selected_df[selected_df.overlap_after==0].id.tolist()\n",
        "\n",
        "\n",
        "\n",
        "\n",
        "adjacency_df = pd.read_csv('dataset_selected_adjacency.csv')\n",
        "\n",
        "for map_id in maps_to_remove:\n",
        "    selected_df = selected_df[selected_df.id != map_id]\n",
        "    adjacency_df = adjacency_df[adjacency_df.map_id != map_id]\n",
        "\n",
        "\n",
        "\n"
      ],
      "execution_count": null,
      "outputs": [
        {
          "output_type": "stream",
          "text": [
            "       subunit_count  resolution  ...  overlap_after  corr_after\n",
            "count      73.000000   73.000000  ...      73.000000   73.000000\n",
            "mean       10.945205    6.855753  ...  124537.410959    0.460788\n",
            "std        12.310667    1.754235  ...  138892.346270    0.218485\n",
            "min         2.000000    4.500000  ...       0.000000   -0.001309\n",
            "25%         4.000000    5.200000  ...   36039.000000    0.319960\n",
            "50%         7.000000    6.500000  ...   70612.000000    0.469003\n",
            "75%        12.000000    8.300000  ...  153993.000000    0.614646\n",
            "max        57.000000   10.000000  ...  637357.000000    0.850218\n",
            "\n",
            "[8 rows x 11 columns]\n"
          ],
          "name": "stdout"
        },
        {
          "output_type": "display_data",
          "data": {
            "image/png": "[encoded data removed]",
            "text/plain": [
              "<Figure size 432x288 with 1 Axes>"
            ]
          },
          "metadata": {
            "tags": [],
            "needs_background": "light"
          }
        }
      ]
    },
    {
      "cell_type": "markdown",
      "metadata": {
        "id": "FpWjoBIPGQyA"
      },
      "source": [
        "# Split training data"
      ]
    },
    {
      "cell_type": "code",
      "metadata": {
        "colab": {
          "base_uri": "https://localhost:8080/"
        },
        "id": "4ZlrRE5xGUvl",
        "outputId": "7a5765da-1a9d-4886-d10b-d6c22b35acc5"
      },
      "source": [
        "from sklearn.model_selection import train_test_split\n",
        "\n",
        "\n",
        "train, test = train_test_split(selected_df, test_size=0.1, random_state=42)\n",
        "\n",
        "print(test)\n",
        "print(test.contourLevel)\n"
      ],
      "execution_count": null,
      "outputs": [
        {
          "output_type": "stream",
          "text": [
            "           id  ... corr_after\n",
            "24   emd-3573  ...   0.309554\n",
            "0    emd-0044  ...   0.377305\n",
            "51   emd-7090  ...   0.662573\n",
            "5    emd-0790  ...   0.481603\n",
            "57   emd-8528  ...   0.257400\n",
            "20   emd-3206  ...   0.255637\n",
            "11  emd-20824  ...   0.545070\n",
            "35   emd-4670  ...   0.709627\n",
            "\n",
            "[8 rows x 17 columns]\n",
            "24    0.010\n",
            "0     5.450\n",
            "51    0.017\n",
            "5     0.830\n",
            "57    0.105\n",
            "20    0.028\n",
            "11    0.250\n",
            "35    0.025\n",
            "Name: contourLevel, dtype: float64\n"
          ],
          "name": "stdout"
        }
      ]
    },
    {
      "cell_type": "markdown",
      "metadata": {
        "id": "0OwC45HAr97q"
      },
      "source": [
        "# Preprocess adjacency to compute vector\n",
        "\n"
      ]
    },
    {
      "cell_type": "code",
      "metadata": {
        "id": "vOLaGl5XsHbB",
        "colab": {
          "base_uri": "https://localhost:8080/"
        },
        "outputId": "e2a0caec-2cfd-41f9-83ea-7a12afba06e5"
      },
      "source": [
        "def create_vect_adjacency(row):\n",
        "    adjacency_json = row['adjacency'] \n",
        "    adjacency_dict = eval(adjacency_json)\n",
        "    number_segments = len(adjacency_dict.keys())\n",
        "    # Construct vector of verts degree\n",
        "    degree_v = [ np.sum(list(adjacency_dict[key].values())) for key in adjacency_dict.keys()]\n",
        "    I = np.identity(number_segments)\n",
        "    degree_matrix = np.matmul(degree_v,I)\n",
        "    adjacency_matrix = np.zeros((number_segments,number_segments))\n",
        "    keys = list(adjacency_dict.keys())\n",
        "    for i in range(0, number_segments):\n",
        "        for j in range(0, number_segments):\n",
        "            if i == j:\n",
        "                adjacency_matrix[i][j] = 0\n",
        "            else:\n",
        "                adjacency_matrix[i][j] = adjacency_dict[keys[i]][keys[j]]\n",
        "    # Compute Laplacian Matrix\n",
        "    laplacian_matrix = degree_matrix - adjacency_matrix\n",
        "    # Compute eigen values and eigen vectors\n",
        "    eigenValues, eigenVectors = np.linalg.eig(laplacian_matrix)\n",
        "    # Sort eigenvalues\n",
        "    idx = eigenValues.argsort()[::-1]\n",
        "    eigenValues = eigenValues[idx]\n",
        "    eigenVectors = eigenVectors[:,idx]\n",
        "    flattened = np.ravel(eigenVectors)\n",
        "    return flattened.tolist()\n",
        "\n",
        "def get_vect_len(row, column):\n",
        "    return len(row[column])\n",
        "\n",
        "def pad_list(row, column, size):\n",
        "    old_len = len(row[column])\n",
        "    num_zeros = size-old_len\n",
        "    old_list = row[column]\n",
        "    zeros = [ 0 for i in range(num_zeros) ]\n",
        "    new_list = old_list + zeros\n",
        "    return new_list\n",
        "\n",
        "adjacency_df['connectivity'] = adjacency_df.apply(create_vect_adjacency, axis=1).tolist()\n",
        "vec_len = np.max(adjacency_df.apply(get_vect_len, axis=1, column='connectivity'))\n",
        "adjacency_df['connectivity'] = adjacency_df.apply(pad_list, axis=1, column='connectivity', size=vec_len).tolist()\n",
        "\n",
        "print(adjacency_df['connectivity'].describe())\n",
        "print(adjacency_df.sample(5))"
      ],
      "execution_count": null,
      "outputs": [
        {
          "output_type": "stream",
          "text": [
            "count                                                    71\n",
            "unique                                                   57\n",
            "top       [0.0, 1.0, 1.0, 0.0, 0, 0, 0, 0, 0, 0, 0, 0, 0...\n",
            "freq                                                      9\n",
            "Name: connectivity, dtype: object\n",
            "       map_id  ...                                       connectivity\n",
            "21   emd-3241  ...  [0.3676256578228848, -0.2755281625035352, 0.33...\n",
            "45   emd-5223  ...  [0.42344413195733166, 8.752231518030958e-17, 0...\n",
            "33   emd-4423  ...  [-0.5, -0.06225728063646897, -0.70710678118654...\n",
            "72  emd-11688  ...  [-0.36313032325414774, 0.6945534765828472, 0.0...\n",
            "30   emd-3954  ...  [-0.2342198902057247, 0.23293975562225133, -0....\n",
            "\n",
            "[5 rows x 4 columns]\n"
          ],
          "name": "stdout"
        }
      ]
    },
    {
      "cell_type": "markdown",
      "metadata": {
        "id": "sCUxC9VKsJWx"
      },
      "source": [
        "## Load "
      ]
    },
    {
      "cell_type": "code",
      "metadata": {
        "colab": {
          "base_uri": "https://localhost:8080/"
        },
        "id": "kG2fs6SZ1jv-",
        "outputId": "29dc5bbc-88ac-409c-ea3b-a20ba4c785a3"
      },
      "source": [
        "bad_df = pd.read_csv('segmented_bad.csv')\n",
        "good_df = pd.read_csv('segmented_good.csv')\n",
        "\n",
        "tagged_df = bad_df.append(good_df, ignore_index=True)\n",
        "\n",
        "tagged_df.reindex(np.random.permutation(tagged_df.index))\n",
        "\n",
        "\n",
        "# Check entries without matched subunits\n",
        "\n",
        "non_tagged = tagged_df[tagged_df['matched_subunits']==0].id\n",
        "more_tagged_than_expected = tagged_df[tagged_df['matched_subunits']>60]\n",
        "\n",
        "print(\"non tagged {}\".format(non_tagged))\n",
        "print(\"more than expected {}\".format(more_tagged_than_expected))\n",
        "\n",
        "\n",
        "print(non_tagged)\n",
        "print(more_tagged_than_expected)\n",
        "\n",
        "tagged_df = tagged_df[tagged_df['matched_subunits']>0]\n",
        "tagged_df = tagged_df[tagged_df['matched_subunits']<=60]\n",
        "\n",
        "# Remove test samples \n",
        "print(len(tagged_df))\n",
        "test_map_id_list = test.id.tolist()\n",
        "test_df = pd.DataFrame()\n",
        "\n",
        "for map_id in test_map_id_list:\n",
        "    test_df = test_df.append(tagged_df[tagged_df.id == map_id]) \n",
        "    tagged_df = tagged_df[tagged_df.id != map_id]\n",
        "    \n",
        "\n",
        "\n",
        "print(len(test_df))\n",
        "print(len(tagged_df))"
      ],
      "execution_count": null,
      "outputs": [
        {
          "output_type": "stream",
          "text": [
            "non tagged Series([], Name: id, dtype: object)\n",
            "more than expected              id  ... label\n",
            "775   emd-10373  ...  good\n",
            "1072   emd-4670  ...  good\n",
            "\n",
            "[2 rows x 16 columns]\n",
            "Series([], Name: id, dtype: object)\n",
            "             id  ... label\n",
            "775   emd-10373  ...  good\n",
            "1072   emd-4670  ...  good\n",
            "\n",
            "[2 rows x 16 columns]\n",
            "1480\n",
            "167\n",
            "1313\n"
          ],
          "name": "stdout"
        }
      ]
    },
    {
      "cell_type": "markdown",
      "metadata": {
        "id": "bS4r17F-uYXJ"
      },
      "source": [
        "## Compute statistics show columns, etc"
      ]
    },
    {
      "cell_type": "code",
      "metadata": {
        "colab": {
          "base_uri": "https://localhost:8080/",
          "height": 1000
        },
        "id": "CpjVQpxpuf2n",
        "outputId": "5ec53c5c-573f-474b-918b-93eff8224396"
      },
      "source": [
        "print(tagged_df.describe())\n",
        "\n",
        "tagged_df.hist(bins=10, figsize=(20, 15))\n",
        "\n",
        "\n",
        "tagged_df.boxplot(column=['contourLevel', 'gt_subunits'])\n",
        "tagged_df_numeric = tagged_df.select_dtypes(include='number')\n",
        "sns.histplot(tagged_df_numeric, bins=50, kde=True)\n",
        "plt.show()"
      ],
      "execution_count": null,
      "outputs": [
        {
          "output_type": "stream",
          "text": [
            "       contourLevel  gt_subunits  ...  consistency    homogenity\n",
            "count   1313.000000  1313.000000  ...  1313.000000  1.313000e+03\n",
            "mean      18.763380    10.355674  ...     0.494157  4.166262e+19\n",
            "std      125.555530    10.559533  ...     0.427783  7.128243e+19\n",
            "min        0.000484     2.000000  ...     0.000000  0.000000e+00\n",
            "25%        0.010000     4.000000  ...     0.025670  3.718076e-01\n",
            "50%        0.035000     7.000000  ...     0.669410  6.036486e+01\n",
            "75%        1.200000    12.000000  ...     0.926189  6.288001e+19\n",
            "max     1000.000000    57.000000  ...     1.000000  4.658148e+20\n",
            "\n",
            "[8 rows x 10 columns]\n"
          ],
          "name": "stdout"
        },
        {
          "output_type": "error",
          "ename": "RuntimeError",
          "evalue": "ignored",
          "traceback": [
            "\u001b[0;31m---------------------------------------------------------------------------\u001b[0m",
            "\u001b[0;31mCalledProcessError\u001b[0m                        Traceback (most recent call last)",
            "\u001b[0;32m/usr/local/lib/python3.7/dist-packages/matplotlib/texmanager.py\u001b[0m in \u001b[0;36m_run_checked_subprocess\u001b[0;34m(self, command, tex)\u001b[0m\n\u001b[1;32m    305\u001b[0m                                              \u001b[0mcwd\u001b[0m\u001b[0;34m=\u001b[0m\u001b[0mself\u001b[0m\u001b[0;34m.\u001b[0m\u001b[0mtexcache\u001b[0m\u001b[0;34m,\u001b[0m\u001b[0;34m\u001b[0m\u001b[0;34m\u001b[0m\u001b[0m\n\u001b[0;32m--> 306\u001b[0;31m                                              stderr=subprocess.STDOUT)\n\u001b[0m\u001b[1;32m    307\u001b[0m         \u001b[0;32mexcept\u001b[0m \u001b[0mFileNotFoundError\u001b[0m \u001b[0;32mas\u001b[0m \u001b[0mexc\u001b[0m\u001b[0;34m:\u001b[0m\u001b[0;34m\u001b[0m\u001b[0;34m\u001b[0m\u001b[0m\n",
            "\u001b[0;32m/usr/lib/python3.7/subprocess.py\u001b[0m in \u001b[0;36mcheck_output\u001b[0;34m(timeout, *popenargs, **kwargs)\u001b[0m\n\u001b[1;32m    410\u001b[0m     return run(*popenargs, stdout=PIPE, timeout=timeout, check=True,\n\u001b[0;32m--> 411\u001b[0;31m                **kwargs).stdout\n\u001b[0m\u001b[1;32m    412\u001b[0m \u001b[0;34m\u001b[0m\u001b[0m\n",
            "\u001b[0;32m/usr/lib/python3.7/subprocess.py\u001b[0m in \u001b[0;36mrun\u001b[0;34m(input, capture_output, timeout, check, *popenargs, **kwargs)\u001b[0m\n\u001b[1;32m    511\u001b[0m             raise CalledProcessError(retcode, process.args,\n\u001b[0;32m--> 512\u001b[0;31m                                      output=stdout, stderr=stderr)\n\u001b[0m\u001b[1;32m    513\u001b[0m     \u001b[0;32mreturn\u001b[0m \u001b[0mCompletedProcess\u001b[0m\u001b[0;34m(\u001b[0m\u001b[0mprocess\u001b[0m\u001b[0;34m.\u001b[0m\u001b[0margs\u001b[0m\u001b[0;34m,\u001b[0m \u001b[0mretcode\u001b[0m\u001b[0;34m,\u001b[0m \u001b[0mstdout\u001b[0m\u001b[0;34m,\u001b[0m \u001b[0mstderr\u001b[0m\u001b[0;34m)\u001b[0m\u001b[0;34m\u001b[0m\u001b[0;34m\u001b[0m\u001b[0m\n",
            "\u001b[0;31mCalledProcessError\u001b[0m: Command '['latex', '-interaction=nonstopmode', '--halt-on-error', '/root/.cache/matplotlib/tex.cache/aaf075db83dae7efc4713ed666b93724.tex']' returned non-zero exit status 1.",
            "\nThe above exception was the direct cause of the following exception:\n",
            "\u001b[0;31mRuntimeError\u001b[0m                              Traceback (most recent call last)",
            "\u001b[0;32m/usr/local/lib/python3.7/dist-packages/IPython/core/formatters.py\u001b[0m in \u001b[0;36m__call__\u001b[0;34m(self, obj)\u001b[0m\n\u001b[1;32m    332\u001b[0m                 \u001b[0;32mpass\u001b[0m\u001b[0;34m\u001b[0m\u001b[0;34m\u001b[0m\u001b[0m\n\u001b[1;32m    333\u001b[0m             \u001b[0;32melse\u001b[0m\u001b[0;34m:\u001b[0m\u001b[0;34m\u001b[0m\u001b[0;34m\u001b[0m\u001b[0m\n\u001b[0;32m--> 334\u001b[0;31m                 \u001b[0;32mreturn\u001b[0m \u001b[0mprinter\u001b[0m\u001b[0;34m(\u001b[0m\u001b[0mobj\u001b[0m\u001b[0;34m)\u001b[0m\u001b[0;34m\u001b[0m\u001b[0;34m\u001b[0m\u001b[0m\n\u001b[0m\u001b[1;32m    335\u001b[0m             \u001b[0;31m# Finally look for special method names\u001b[0m\u001b[0;34m\u001b[0m\u001b[0;34m\u001b[0m\u001b[0;34m\u001b[0m\u001b[0m\n\u001b[1;32m    336\u001b[0m             \u001b[0mmethod\u001b[0m \u001b[0;34m=\u001b[0m \u001b[0mget_real_method\u001b[0m\u001b[0;34m(\u001b[0m\u001b[0mobj\u001b[0m\u001b[0;34m,\u001b[0m \u001b[0mself\u001b[0m\u001b[0;34m.\u001b[0m\u001b[0mprint_method\u001b[0m\u001b[0;34m)\u001b[0m\u001b[0;34m\u001b[0m\u001b[0;34m\u001b[0m\u001b[0m\n",
            "\u001b[0;32m/usr/local/lib/python3.7/dist-packages/IPython/core/pylabtools.py\u001b[0m in \u001b[0;36m<lambda>\u001b[0;34m(fig)\u001b[0m\n\u001b[1;32m    239\u001b[0m \u001b[0;34m\u001b[0m\u001b[0m\n\u001b[1;32m    240\u001b[0m     \u001b[0;32mif\u001b[0m \u001b[0;34m'png'\u001b[0m \u001b[0;32min\u001b[0m \u001b[0mformats\u001b[0m\u001b[0;34m:\u001b[0m\u001b[0;34m\u001b[0m\u001b[0;34m\u001b[0m\u001b[0m\n\u001b[0;32m--> 241\u001b[0;31m         \u001b[0mpng_formatter\u001b[0m\u001b[0;34m.\u001b[0m\u001b[0mfor_type\u001b[0m\u001b[0;34m(\u001b[0m\u001b[0mFigure\u001b[0m\u001b[0;34m,\u001b[0m \u001b[0;32mlambda\u001b[0m \u001b[0mfig\u001b[0m\u001b[0;34m:\u001b[0m \u001b[0mprint_figure\u001b[0m\u001b[0;34m(\u001b[0m\u001b[0mfig\u001b[0m\u001b[0;34m,\u001b[0m \u001b[0;34m'png'\u001b[0m\u001b[0;34m,\u001b[0m \u001b[0;34m**\u001b[0m\u001b[0mkwargs\u001b[0m\u001b[0;34m)\u001b[0m\u001b[0;34m)\u001b[0m\u001b[0;34m\u001b[0m\u001b[0;34m\u001b[0m\u001b[0m\n\u001b[0m\u001b[1;32m    242\u001b[0m     \u001b[0;32mif\u001b[0m \u001b[0;34m'retina'\u001b[0m \u001b[0;32min\u001b[0m \u001b[0mformats\u001b[0m \u001b[0;32mor\u001b[0m \u001b[0;34m'png2x'\u001b[0m \u001b[0;32min\u001b[0m \u001b[0mformats\u001b[0m\u001b[0;34m:\u001b[0m\u001b[0;34m\u001b[0m\u001b[0;34m\u001b[0m\u001b[0m\n\u001b[1;32m    243\u001b[0m         \u001b[0mpng_formatter\u001b[0m\u001b[0;34m.\u001b[0m\u001b[0mfor_type\u001b[0m\u001b[0;34m(\u001b[0m\u001b[0mFigure\u001b[0m\u001b[0;34m,\u001b[0m \u001b[0;32mlambda\u001b[0m \u001b[0mfig\u001b[0m\u001b[0;34m:\u001b[0m \u001b[0mretina_figure\u001b[0m\u001b[0;34m(\u001b[0m\u001b[0mfig\u001b[0m\u001b[0;34m,\u001b[0m \u001b[0;34m**\u001b[0m\u001b[0mkwargs\u001b[0m\u001b[0;34m)\u001b[0m\u001b[0;34m)\u001b[0m\u001b[0;34m\u001b[0m\u001b[0;34m\u001b[0m\u001b[0m\n",
            "\u001b[0;32m/usr/local/lib/python3.7/dist-packages/IPython/core/pylabtools.py\u001b[0m in \u001b[0;36mprint_figure\u001b[0;34m(fig, fmt, bbox_inches, **kwargs)\u001b[0m\n\u001b[1;32m    123\u001b[0m \u001b[0;34m\u001b[0m\u001b[0m\n\u001b[1;32m    124\u001b[0m     \u001b[0mbytes_io\u001b[0m \u001b[0;34m=\u001b[0m \u001b[0mBytesIO\u001b[0m\u001b[0;34m(\u001b[0m\u001b[0;34m)\u001b[0m\u001b[0;34m\u001b[0m\u001b[0;34m\u001b[0m\u001b[0m\n\u001b[0;32m--> 125\u001b[0;31m     \u001b[0mfig\u001b[0m\u001b[0;34m.\u001b[0m\u001b[0mcanvas\u001b[0m\u001b[0;34m.\u001b[0m\u001b[0mprint_figure\u001b[0m\u001b[0;34m(\u001b[0m\u001b[0mbytes_io\u001b[0m\u001b[0;34m,\u001b[0m \u001b[0;34m**\u001b[0m\u001b[0mkw\u001b[0m\u001b[0;34m)\u001b[0m\u001b[0;34m\u001b[0m\u001b[0;34m\u001b[0m\u001b[0m\n\u001b[0m\u001b[1;32m    126\u001b[0m     \u001b[0mdata\u001b[0m \u001b[0;34m=\u001b[0m \u001b[0mbytes_io\u001b[0m\u001b[0;34m.\u001b[0m\u001b[0mgetvalue\u001b[0m\u001b[0;34m(\u001b[0m\u001b[0;34m)\u001b[0m\u001b[0;34m\u001b[0m\u001b[0;34m\u001b[0m\u001b[0m\n\u001b[1;32m    127\u001b[0m     \u001b[0;32mif\u001b[0m \u001b[0mfmt\u001b[0m \u001b[0;34m==\u001b[0m \u001b[0;34m'svg'\u001b[0m\u001b[0;34m:\u001b[0m\u001b[0;34m\u001b[0m\u001b[0;34m\u001b[0m\u001b[0m\n",
            "\u001b[0;32m/usr/local/lib/python3.7/dist-packages/matplotlib/backend_bases.py\u001b[0m in \u001b[0;36mprint_figure\u001b[0;34m(self, filename, dpi, facecolor, edgecolor, orientation, format, bbox_inches, **kwargs)\u001b[0m\n\u001b[1;32m   2098\u001b[0m                            else suppress())\n\u001b[1;32m   2099\u001b[0m                     \u001b[0;32mwith\u001b[0m \u001b[0mctx\u001b[0m\u001b[0;34m:\u001b[0m\u001b[0;34m\u001b[0m\u001b[0;34m\u001b[0m\u001b[0m\n\u001b[0;32m-> 2100\u001b[0;31m                         \u001b[0mself\u001b[0m\u001b[0;34m.\u001b[0m\u001b[0mfigure\u001b[0m\u001b[0;34m.\u001b[0m\u001b[0mdraw\u001b[0m\u001b[0;34m(\u001b[0m\u001b[0mrenderer\u001b[0m\u001b[0;34m)\u001b[0m\u001b[0;34m\u001b[0m\u001b[0;34m\u001b[0m\u001b[0m\n\u001b[0m\u001b[1;32m   2101\u001b[0m                     \u001b[0mbbox_artists\u001b[0m \u001b[0;34m=\u001b[0m \u001b[0mkwargs\u001b[0m\u001b[0;34m.\u001b[0m\u001b[0mpop\u001b[0m\u001b[0;34m(\u001b[0m\u001b[0;34m\"bbox_extra_artists\"\u001b[0m\u001b[0;34m,\u001b[0m \u001b[0;32mNone\u001b[0m\u001b[0;34m)\u001b[0m\u001b[0;34m\u001b[0m\u001b[0;34m\u001b[0m\u001b[0m\n\u001b[1;32m   2102\u001b[0m                     bbox_inches = self.figure.get_tightbbox(renderer,\n",
            "\u001b[0;32m/usr/local/lib/python3.7/dist-packages/matplotlib/artist.py\u001b[0m in \u001b[0;36mdraw_wrapper\u001b[0;34m(artist, renderer, *args, **kwargs)\u001b[0m\n\u001b[1;32m     36\u001b[0m                 \u001b[0mrenderer\u001b[0m\u001b[0;34m.\u001b[0m\u001b[0mstart_filter\u001b[0m\u001b[0;34m(\u001b[0m\u001b[0;34m)\u001b[0m\u001b[0;34m\u001b[0m\u001b[0;34m\u001b[0m\u001b[0m\n\u001b[1;32m     37\u001b[0m \u001b[0;34m\u001b[0m\u001b[0m\n\u001b[0;32m---> 38\u001b[0;31m             \u001b[0;32mreturn\u001b[0m \u001b[0mdraw\u001b[0m\u001b[0;34m(\u001b[0m\u001b[0martist\u001b[0m\u001b[0;34m,\u001b[0m \u001b[0mrenderer\u001b[0m\u001b[0;34m,\u001b[0m \u001b[0;34m*\u001b[0m\u001b[0margs\u001b[0m\u001b[0;34m,\u001b[0m \u001b[0;34m**\u001b[0m\u001b[0mkwargs\u001b[0m\u001b[0;34m)\u001b[0m\u001b[0;34m\u001b[0m\u001b[0;34m\u001b[0m\u001b[0m\n\u001b[0m\u001b[1;32m     39\u001b[0m         \u001b[0;32mfinally\u001b[0m\u001b[0;34m:\u001b[0m\u001b[0;34m\u001b[0m\u001b[0;34m\u001b[0m\u001b[0m\n\u001b[1;32m     40\u001b[0m             \u001b[0;32mif\u001b[0m \u001b[0martist\u001b[0m\u001b[0;34m.\u001b[0m\u001b[0mget_agg_filter\u001b[0m\u001b[0;34m(\u001b[0m\u001b[0;34m)\u001b[0m \u001b[0;32mis\u001b[0m \u001b[0;32mnot\u001b[0m \u001b[0;32mNone\u001b[0m\u001b[0;34m:\u001b[0m\u001b[0;34m\u001b[0m\u001b[0;34m\u001b[0m\u001b[0m\n",
            "\u001b[0;32m/usr/local/lib/python3.7/dist-packages/matplotlib/figure.py\u001b[0m in \u001b[0;36mdraw\u001b[0;34m(self, renderer)\u001b[0m\n\u001b[1;32m   1734\u001b[0m             \u001b[0mself\u001b[0m\u001b[0;34m.\u001b[0m\u001b[0mpatch\u001b[0m\u001b[0;34m.\u001b[0m\u001b[0mdraw\u001b[0m\u001b[0;34m(\u001b[0m\u001b[0mrenderer\u001b[0m\u001b[0;34m)\u001b[0m\u001b[0;34m\u001b[0m\u001b[0;34m\u001b[0m\u001b[0m\n\u001b[1;32m   1735\u001b[0m             mimage._draw_list_compositing_images(\n\u001b[0;32m-> 1736\u001b[0;31m                 renderer, self, artists, self.suppressComposite)\n\u001b[0m\u001b[1;32m   1737\u001b[0m \u001b[0;34m\u001b[0m\u001b[0m\n\u001b[1;32m   1738\u001b[0m             \u001b[0mrenderer\u001b[0m\u001b[0;34m.\u001b[0m\u001b[0mclose_group\u001b[0m\u001b[0;34m(\u001b[0m\u001b[0;34m'figure'\u001b[0m\u001b[0;34m)\u001b[0m\u001b[0;34m\u001b[0m\u001b[0;34m\u001b[0m\u001b[0m\n",
            "\u001b[0;32m/usr/local/lib/python3.7/dist-packages/matplotlib/image.py\u001b[0m in \u001b[0;36m_draw_list_compositing_images\u001b[0;34m(renderer, parent, artists, suppress_composite)\u001b[0m\n\u001b[1;32m    135\u001b[0m     \u001b[0;32mif\u001b[0m \u001b[0mnot_composite\u001b[0m \u001b[0;32mor\u001b[0m \u001b[0;32mnot\u001b[0m \u001b[0mhas_images\u001b[0m\u001b[0;34m:\u001b[0m\u001b[0;34m\u001b[0m\u001b[0;34m\u001b[0m\u001b[0m\n\u001b[1;32m    136\u001b[0m         \u001b[0;32mfor\u001b[0m \u001b[0ma\u001b[0m \u001b[0;32min\u001b[0m \u001b[0martists\u001b[0m\u001b[0;34m:\u001b[0m\u001b[0;34m\u001b[0m\u001b[0;34m\u001b[0m\u001b[0m\n\u001b[0;32m--> 137\u001b[0;31m             \u001b[0ma\u001b[0m\u001b[0;34m.\u001b[0m\u001b[0mdraw\u001b[0m\u001b[0;34m(\u001b[0m\u001b[0mrenderer\u001b[0m\u001b[0;34m)\u001b[0m\u001b[0;34m\u001b[0m\u001b[0;34m\u001b[0m\u001b[0m\n\u001b[0m\u001b[1;32m    138\u001b[0m     \u001b[0;32melse\u001b[0m\u001b[0;34m:\u001b[0m\u001b[0;34m\u001b[0m\u001b[0;34m\u001b[0m\u001b[0m\n\u001b[1;32m    139\u001b[0m         \u001b[0;31m# Composite any adjacent images together\u001b[0m\u001b[0;34m\u001b[0m\u001b[0;34m\u001b[0m\u001b[0;34m\u001b[0m\u001b[0m\n",
            "\u001b[0;32m/usr/local/lib/python3.7/dist-packages/matplotlib/artist.py\u001b[0m in \u001b[0;36mdraw_wrapper\u001b[0;34m(artist, renderer, *args, **kwargs)\u001b[0m\n\u001b[1;32m     36\u001b[0m                 \u001b[0mrenderer\u001b[0m\u001b[0;34m.\u001b[0m\u001b[0mstart_filter\u001b[0m\u001b[0;34m(\u001b[0m\u001b[0;34m)\u001b[0m\u001b[0;34m\u001b[0m\u001b[0;34m\u001b[0m\u001b[0m\n\u001b[1;32m     37\u001b[0m \u001b[0;34m\u001b[0m\u001b[0m\n\u001b[0;32m---> 38\u001b[0;31m             \u001b[0;32mreturn\u001b[0m \u001b[0mdraw\u001b[0m\u001b[0;34m(\u001b[0m\u001b[0martist\u001b[0m\u001b[0;34m,\u001b[0m \u001b[0mrenderer\u001b[0m\u001b[0;34m,\u001b[0m \u001b[0;34m*\u001b[0m\u001b[0margs\u001b[0m\u001b[0;34m,\u001b[0m \u001b[0;34m**\u001b[0m\u001b[0mkwargs\u001b[0m\u001b[0;34m)\u001b[0m\u001b[0;34m\u001b[0m\u001b[0;34m\u001b[0m\u001b[0m\n\u001b[0m\u001b[1;32m     39\u001b[0m         \u001b[0;32mfinally\u001b[0m\u001b[0;34m:\u001b[0m\u001b[0;34m\u001b[0m\u001b[0;34m\u001b[0m\u001b[0m\n\u001b[1;32m     40\u001b[0m             \u001b[0;32mif\u001b[0m \u001b[0martist\u001b[0m\u001b[0;34m.\u001b[0m\u001b[0mget_agg_filter\u001b[0m\u001b[0;34m(\u001b[0m\u001b[0;34m)\u001b[0m \u001b[0;32mis\u001b[0m \u001b[0;32mnot\u001b[0m \u001b[0;32mNone\u001b[0m\u001b[0;34m:\u001b[0m\u001b[0;34m\u001b[0m\u001b[0;34m\u001b[0m\u001b[0m\n",
            "\u001b[0;32m/usr/local/lib/python3.7/dist-packages/matplotlib/axes/_base.py\u001b[0m in \u001b[0;36mdraw\u001b[0;34m(self, renderer, inframe)\u001b[0m\n\u001b[1;32m   2588\u001b[0m                 \u001b[0martists\u001b[0m\u001b[0;34m.\u001b[0m\u001b[0mremove\u001b[0m\u001b[0;34m(\u001b[0m\u001b[0mspine\u001b[0m\u001b[0;34m)\u001b[0m\u001b[0;34m\u001b[0m\u001b[0;34m\u001b[0m\u001b[0m\n\u001b[1;32m   2589\u001b[0m \u001b[0;34m\u001b[0m\u001b[0m\n\u001b[0;32m-> 2590\u001b[0;31m         \u001b[0mself\u001b[0m\u001b[0;34m.\u001b[0m\u001b[0m_update_title_position\u001b[0m\u001b[0;34m(\u001b[0m\u001b[0mrenderer\u001b[0m\u001b[0;34m)\u001b[0m\u001b[0;34m\u001b[0m\u001b[0;34m\u001b[0m\u001b[0m\n\u001b[0m\u001b[1;32m   2591\u001b[0m \u001b[0;34m\u001b[0m\u001b[0m\n\u001b[1;32m   2592\u001b[0m         \u001b[0;32mif\u001b[0m \u001b[0;32mnot\u001b[0m \u001b[0mself\u001b[0m\u001b[0;34m.\u001b[0m\u001b[0maxison\u001b[0m \u001b[0;32mor\u001b[0m \u001b[0minframe\u001b[0m\u001b[0;34m:\u001b[0m\u001b[0;34m\u001b[0m\u001b[0;34m\u001b[0m\u001b[0m\n",
            "\u001b[0;32m/usr/local/lib/python3.7/dist-packages/matplotlib/axes/_base.py\u001b[0m in \u001b[0;36m_update_title_position\u001b[0;34m(self, renderer)\u001b[0m\n\u001b[1;32m   2536\u001b[0m                 \u001b[0;32mif\u001b[0m \u001b[0mbb\u001b[0m \u001b[0;32mis\u001b[0m \u001b[0;32mnot\u001b[0m \u001b[0;32mNone\u001b[0m\u001b[0;34m:\u001b[0m\u001b[0;34m\u001b[0m\u001b[0;34m\u001b[0m\u001b[0m\n\u001b[1;32m   2537\u001b[0m                     \u001b[0mtop\u001b[0m \u001b[0;34m=\u001b[0m \u001b[0mmax\u001b[0m\u001b[0;34m(\u001b[0m\u001b[0mtop\u001b[0m\u001b[0;34m,\u001b[0m \u001b[0mbb\u001b[0m\u001b[0;34m.\u001b[0m\u001b[0mymax\u001b[0m\u001b[0;34m)\u001b[0m\u001b[0;34m\u001b[0m\u001b[0;34m\u001b[0m\u001b[0m\n\u001b[0;32m-> 2538\u001b[0;31m             \u001b[0;32mif\u001b[0m \u001b[0mtitle\u001b[0m\u001b[0;34m.\u001b[0m\u001b[0mget_window_extent\u001b[0m\u001b[0;34m(\u001b[0m\u001b[0mrenderer\u001b[0m\u001b[0;34m)\u001b[0m\u001b[0;34m.\u001b[0m\u001b[0mymin\u001b[0m \u001b[0;34m<\u001b[0m \u001b[0mtop\u001b[0m\u001b[0;34m:\u001b[0m\u001b[0;34m\u001b[0m\u001b[0;34m\u001b[0m\u001b[0m\n\u001b[0m\u001b[1;32m   2539\u001b[0m                 \u001b[0m_\u001b[0m\u001b[0;34m,\u001b[0m \u001b[0my\u001b[0m \u001b[0;34m=\u001b[0m \u001b[0mself\u001b[0m\u001b[0;34m.\u001b[0m\u001b[0mtransAxes\u001b[0m\u001b[0;34m.\u001b[0m\u001b[0minverted\u001b[0m\u001b[0;34m(\u001b[0m\u001b[0;34m)\u001b[0m\u001b[0;34m.\u001b[0m\u001b[0mtransform\u001b[0m\u001b[0;34m(\u001b[0m\u001b[0;34m(\u001b[0m\u001b[0;36m0\u001b[0m\u001b[0;34m,\u001b[0m \u001b[0mtop\u001b[0m\u001b[0;34m)\u001b[0m\u001b[0;34m)\u001b[0m\u001b[0;34m\u001b[0m\u001b[0;34m\u001b[0m\u001b[0m\n\u001b[1;32m   2540\u001b[0m                 \u001b[0mtitle\u001b[0m\u001b[0;34m.\u001b[0m\u001b[0mset_position\u001b[0m\u001b[0;34m(\u001b[0m\u001b[0;34m(\u001b[0m\u001b[0mx\u001b[0m\u001b[0;34m,\u001b[0m \u001b[0my\u001b[0m\u001b[0;34m)\u001b[0m\u001b[0;34m)\u001b[0m\u001b[0;34m\u001b[0m\u001b[0;34m\u001b[0m\u001b[0m\n",
            "\u001b[0;32m/usr/local/lib/python3.7/dist-packages/matplotlib/text.py\u001b[0m in \u001b[0;36mget_window_extent\u001b[0;34m(self, renderer, dpi)\u001b[0m\n\u001b[1;32m    903\u001b[0m             \u001b[0;32mraise\u001b[0m \u001b[0mRuntimeError\u001b[0m\u001b[0;34m(\u001b[0m\u001b[0;34m'Cannot get window extent w/o renderer'\u001b[0m\u001b[0;34m)\u001b[0m\u001b[0;34m\u001b[0m\u001b[0;34m\u001b[0m\u001b[0m\n\u001b[1;32m    904\u001b[0m \u001b[0;34m\u001b[0m\u001b[0m\n\u001b[0;32m--> 905\u001b[0;31m         \u001b[0mbbox\u001b[0m\u001b[0;34m,\u001b[0m \u001b[0minfo\u001b[0m\u001b[0;34m,\u001b[0m \u001b[0mdescent\u001b[0m \u001b[0;34m=\u001b[0m \u001b[0mself\u001b[0m\u001b[0;34m.\u001b[0m\u001b[0m_get_layout\u001b[0m\u001b[0;34m(\u001b[0m\u001b[0mself\u001b[0m\u001b[0;34m.\u001b[0m\u001b[0m_renderer\u001b[0m\u001b[0;34m)\u001b[0m\u001b[0;34m\u001b[0m\u001b[0;34m\u001b[0m\u001b[0m\n\u001b[0m\u001b[1;32m    906\u001b[0m         \u001b[0mx\u001b[0m\u001b[0;34m,\u001b[0m \u001b[0my\u001b[0m \u001b[0;34m=\u001b[0m \u001b[0mself\u001b[0m\u001b[0;34m.\u001b[0m\u001b[0mget_unitless_position\u001b[0m\u001b[0;34m(\u001b[0m\u001b[0;34m)\u001b[0m\u001b[0;34m\u001b[0m\u001b[0;34m\u001b[0m\u001b[0m\n\u001b[1;32m    907\u001b[0m         \u001b[0mx\u001b[0m\u001b[0;34m,\u001b[0m \u001b[0my\u001b[0m \u001b[0;34m=\u001b[0m \u001b[0mself\u001b[0m\u001b[0;34m.\u001b[0m\u001b[0mget_transform\u001b[0m\u001b[0;34m(\u001b[0m\u001b[0;34m)\u001b[0m\u001b[0;34m.\u001b[0m\u001b[0mtransform\u001b[0m\u001b[0;34m(\u001b[0m\u001b[0;34m(\u001b[0m\u001b[0mx\u001b[0m\u001b[0;34m,\u001b[0m \u001b[0my\u001b[0m\u001b[0;34m)\u001b[0m\u001b[0;34m)\u001b[0m\u001b[0;34m\u001b[0m\u001b[0;34m\u001b[0m\u001b[0m\n",
            "\u001b[0;32m/usr/local/lib/python3.7/dist-packages/matplotlib/text.py\u001b[0m in \u001b[0;36m_get_layout\u001b[0;34m(self, renderer)\u001b[0m\n\u001b[1;32m    298\u001b[0m             \u001b[0;32mif\u001b[0m \u001b[0mclean_line\u001b[0m\u001b[0;34m:\u001b[0m\u001b[0;34m\u001b[0m\u001b[0;34m\u001b[0m\u001b[0m\n\u001b[1;32m    299\u001b[0m                 w, h, d = renderer.get_text_width_height_descent(\n\u001b[0;32m--> 300\u001b[0;31m                     clean_line, self._fontproperties, ismath=ismath)\n\u001b[0m\u001b[1;32m    301\u001b[0m             \u001b[0;32melse\u001b[0m\u001b[0;34m:\u001b[0m\u001b[0;34m\u001b[0m\u001b[0;34m\u001b[0m\u001b[0m\n\u001b[1;32m    302\u001b[0m                 \u001b[0mw\u001b[0m \u001b[0;34m=\u001b[0m \u001b[0mh\u001b[0m \u001b[0;34m=\u001b[0m \u001b[0md\u001b[0m \u001b[0;34m=\u001b[0m \u001b[0;36m0\u001b[0m\u001b[0;34m\u001b[0m\u001b[0;34m\u001b[0m\u001b[0m\n",
            "\u001b[0;32m/usr/local/lib/python3.7/dist-packages/matplotlib/backends/backend_agg.py\u001b[0m in \u001b[0;36mget_text_width_height_descent\u001b[0;34m(self, s, prop, ismath)\u001b[0m\n\u001b[1;32m    202\u001b[0m             \u001b[0mfontsize\u001b[0m \u001b[0;34m=\u001b[0m \u001b[0mprop\u001b[0m\u001b[0;34m.\u001b[0m\u001b[0mget_size_in_points\u001b[0m\u001b[0;34m(\u001b[0m\u001b[0;34m)\u001b[0m\u001b[0;34m\u001b[0m\u001b[0;34m\u001b[0m\u001b[0m\n\u001b[1;32m    203\u001b[0m             w, h, d = texmanager.get_text_width_height_descent(\n\u001b[0;32m--> 204\u001b[0;31m                 s, fontsize, renderer=self)\n\u001b[0m\u001b[1;32m    205\u001b[0m             \u001b[0;32mreturn\u001b[0m \u001b[0mw\u001b[0m\u001b[0;34m,\u001b[0m \u001b[0mh\u001b[0m\u001b[0;34m,\u001b[0m \u001b[0md\u001b[0m\u001b[0;34m\u001b[0m\u001b[0;34m\u001b[0m\u001b[0m\n\u001b[1;32m    206\u001b[0m \u001b[0;34m\u001b[0m\u001b[0m\n",
            "\u001b[0;32m/usr/local/lib/python3.7/dist-packages/matplotlib/texmanager.py\u001b[0m in \u001b[0;36mget_text_width_height_descent\u001b[0;34m(self, tex, fontsize, renderer)\u001b[0m\n\u001b[1;32m    456\u001b[0m         \u001b[0;32melse\u001b[0m\u001b[0;34m:\u001b[0m\u001b[0;34m\u001b[0m\u001b[0;34m\u001b[0m\u001b[0m\n\u001b[1;32m    457\u001b[0m             \u001b[0;31m# use dviread.\u001b[0m\u001b[0;34m\u001b[0m\u001b[0;34m\u001b[0m\u001b[0;34m\u001b[0m\u001b[0m\n\u001b[0;32m--> 458\u001b[0;31m             \u001b[0mdvifile\u001b[0m \u001b[0;34m=\u001b[0m \u001b[0mself\u001b[0m\u001b[0;34m.\u001b[0m\u001b[0mmake_dvi\u001b[0m\u001b[0;34m(\u001b[0m\u001b[0mtex\u001b[0m\u001b[0;34m,\u001b[0m \u001b[0mfontsize\u001b[0m\u001b[0;34m)\u001b[0m\u001b[0;34m\u001b[0m\u001b[0;34m\u001b[0m\u001b[0m\n\u001b[0m\u001b[1;32m    459\u001b[0m             \u001b[0;32mwith\u001b[0m \u001b[0mdviread\u001b[0m\u001b[0;34m.\u001b[0m\u001b[0mDvi\u001b[0m\u001b[0;34m(\u001b[0m\u001b[0mdvifile\u001b[0m\u001b[0;34m,\u001b[0m \u001b[0;36m72\u001b[0m \u001b[0;34m*\u001b[0m \u001b[0mdpi_fraction\u001b[0m\u001b[0;34m)\u001b[0m \u001b[0;32mas\u001b[0m \u001b[0mdvi\u001b[0m\u001b[0;34m:\u001b[0m\u001b[0;34m\u001b[0m\u001b[0;34m\u001b[0m\u001b[0m\n\u001b[1;32m    460\u001b[0m                 \u001b[0mpage\u001b[0m\u001b[0;34m,\u001b[0m \u001b[0;34m=\u001b[0m \u001b[0mdvi\u001b[0m\u001b[0;34m\u001b[0m\u001b[0;34m\u001b[0m\u001b[0m\n",
            "\u001b[0;32m/usr/local/lib/python3.7/dist-packages/matplotlib/texmanager.py\u001b[0m in \u001b[0;36mmake_dvi\u001b[0;34m(self, tex, fontsize)\u001b[0m\n\u001b[1;32m    338\u001b[0m                 self._run_checked_subprocess(\n\u001b[1;32m    339\u001b[0m                     [\"latex\", \"-interaction=nonstopmode\", \"--halt-on-error\",\n\u001b[0;32m--> 340\u001b[0;31m                      texfile], tex)\n\u001b[0m\u001b[1;32m    341\u001b[0m             \u001b[0;32mfor\u001b[0m \u001b[0mfname\u001b[0m \u001b[0;32min\u001b[0m \u001b[0mglob\u001b[0m\u001b[0;34m.\u001b[0m\u001b[0mglob\u001b[0m\u001b[0;34m(\u001b[0m\u001b[0mbasefile\u001b[0m \u001b[0;34m+\u001b[0m \u001b[0;34m'*'\u001b[0m\u001b[0;34m)\u001b[0m\u001b[0;34m:\u001b[0m\u001b[0;34m\u001b[0m\u001b[0;34m\u001b[0m\u001b[0m\n\u001b[1;32m    342\u001b[0m                 \u001b[0;32mif\u001b[0m \u001b[0;32mnot\u001b[0m \u001b[0mfname\u001b[0m\u001b[0;34m.\u001b[0m\u001b[0mendswith\u001b[0m\u001b[0;34m(\u001b[0m\u001b[0;34m(\u001b[0m\u001b[0;34m'dvi'\u001b[0m\u001b[0;34m,\u001b[0m \u001b[0;34m'tex'\u001b[0m\u001b[0;34m)\u001b[0m\u001b[0;34m)\u001b[0m\u001b[0;34m:\u001b[0m\u001b[0;34m\u001b[0m\u001b[0;34m\u001b[0m\u001b[0m\n",
            "\u001b[0;32m/usr/local/lib/python3.7/dist-packages/matplotlib/texmanager.py\u001b[0m in \u001b[0;36m_run_checked_subprocess\u001b[0;34m(self, command, tex)\u001b[0m\n\u001b[1;32m    317\u001b[0m                     \u001b[0mprog\u001b[0m\u001b[0;34m=\u001b[0m\u001b[0mcommand\u001b[0m\u001b[0;34m[\u001b[0m\u001b[0;36m0\u001b[0m\u001b[0;34m]\u001b[0m\u001b[0;34m,\u001b[0m\u001b[0;34m\u001b[0m\u001b[0;34m\u001b[0m\u001b[0m\n\u001b[1;32m    318\u001b[0m                     \u001b[0mtex\u001b[0m\u001b[0;34m=\u001b[0m\u001b[0mtex\u001b[0m\u001b[0;34m.\u001b[0m\u001b[0mencode\u001b[0m\u001b[0;34m(\u001b[0m\u001b[0;34m'unicode_escape'\u001b[0m\u001b[0;34m)\u001b[0m\u001b[0;34m,\u001b[0m\u001b[0;34m\u001b[0m\u001b[0;34m\u001b[0m\u001b[0m\n\u001b[0;32m--> 319\u001b[0;31m                     exc=exc.output.decode('utf-8'))) from exc\n\u001b[0m\u001b[1;32m    320\u001b[0m         \u001b[0m_log\u001b[0m\u001b[0;34m.\u001b[0m\u001b[0mdebug\u001b[0m\u001b[0;34m(\u001b[0m\u001b[0mreport\u001b[0m\u001b[0;34m)\u001b[0m\u001b[0;34m\u001b[0m\u001b[0;34m\u001b[0m\u001b[0m\n\u001b[1;32m    321\u001b[0m         \u001b[0;32mreturn\u001b[0m \u001b[0mreport\u001b[0m\u001b[0;34m\u001b[0m\u001b[0;34m\u001b[0m\u001b[0m\n",
            "\u001b[0;31mRuntimeError\u001b[0m: latex was not able to process the following string:\nb'gt_subunits'\n\nHere is the full report generated by latex:\nThis is pdfTeX, Version 3.14159265-2.6-1.40.18 (TeX Live 2017/Debian) (preloaded format=latex)\n restricted \\write18 enabled.\nentering extended mode\n(/root/.cache/matplotlib/tex.cache/aaf075db83dae7efc4713ed666b93724.tex\nLaTeX2e <2017-04-15>\nBabel <3.18> and hyphenation patterns for 3 language(s) loaded.\n(/usr/share/texlive/texmf-dist/tex/latex/base/article.cls\nDocument Class: article 2014/09/29 v1.4h Standard LaTeX document class\n(/usr/share/texlive/texmf-dist/tex/latex/base/size10.clo))\n(/usr/share/texlive/texmf-dist/tex/latex/type1cm/type1cm.sty)\n(/usr/share/texmf/tex/latex/cm-super/type1ec.sty\n(/usr/share/texlive/texmf-dist/tex/latex/base/t1cmr.fd))\n(/usr/share/texlive/texmf-dist/tex/latex/base/textcomp.sty\n(/usr/share/texlive/texmf-dist/tex/latex/base/ts1enc.def))\n(/usr/share/texlive/texmf-dist/tex/latex/base/inputenc.sty\n(/usr/share/texlive/texmf-dist/tex/latex/base/utf8.def\n(/usr/share/texlive/texmf-dist/tex/latex/base/t1enc.dfu)\n(/usr/share/texlive/texmf-dist/tex/latex/base/ot1enc.dfu)\n(/usr/share/texlive/texmf-dist/tex/latex/base/omsenc.dfu)\n(/usr/share/texlive/texmf-dist/tex/latex/base/ts1enc.dfu)))\n(/usr/share/texlive/texmf-dist/tex/latex/geometry/geometry.sty\n(/usr/share/texlive/texmf-dist/tex/latex/graphics/keyval.sty)\n(/usr/share/texlive/texmf-dist/tex/generic/oberdiek/ifpdf.sty)\n(/usr/share/texlive/texmf-dist/tex/generic/oberdiek/ifvtex.sty)\n(/usr/share/texlive/texmf-dist/tex/generic/ifxetex/ifxetex.sty)\n\nPackage geometry Warning: Over-specification in `h'-direction.\n    `width' (5058.9pt) is ignored.\n\n\nPackage geometry Warning: Over-specification in `v'-direction.\n    `height' (5058.9pt) is ignored.\n\n) (/usr/share/texlive/texmf-dist/tex/latex/amsmath/amsmath.sty\nFor additional information on amsmath, use the `?' option.\n(/usr/share/texlive/texmf-dist/tex/latex/amsmath/amstext.sty\n(/usr/share/texlive/texmf-dist/tex/latex/amsmath/amsgen.sty))\n(/usr/share/texlive/texmf-dist/tex/latex/amsmath/amsbsy.sty)\n(/usr/share/texlive/texmf-dist/tex/latex/amsmath/amsopn.sty))\n(./aaf075db83dae7efc4713ed666b93724.aux)\n(/usr/share/texlive/texmf-dist/tex/latex/base/ts1cmr.fd)\n*geometry* driver: auto-detecting\n*geometry* detected driver: dvips\n! Missing $ inserted.\n<inserted text> \n                $\nl.19 {\\rmfamily gt_\n                   subunits}\nNo pages of output.\nTranscript written on aaf075db83dae7efc4713ed666b93724.log.\n\n\n"
          ]
        },
        {
          "output_type": "display_data",
          "data": {
            "text/plain": [
              "<Figure size 1440x1080 with 12 Axes>"
            ]
          },
          "metadata": {
            "tags": [],
            "needs_background": "light"
          }
        }
      ]
    },
    {
      "cell_type": "markdown",
      "metadata": {
        "id": "fDycGbqus8I7"
      },
      "source": [
        "## Compute vector of features\n",
        "\n",
        "### A first vector feature is computed to encode the number of subunits and volume information extracted from annotated data.\n",
        "\n",
        "### An aditional feature to be used is the Euler Characteristic for each segment, which decribes the topological information of connectivity of each subunit. \n"
      ]
    },
    {
      "cell_type": "code",
      "metadata": {
        "colab": {
          "base_uri": "https://localhost:8080/"
        },
        "id": "HW8GM91MtEke",
        "outputId": "5ff41659-c3ba-4b31-842a-cab972df014e"
      },
      "source": [
        "max_subunit_count = 60\n",
        "\n",
        "def create_vect_subunit_vol(row):\n",
        "    segments_volume = row['voxels_assigned']\n",
        "    segments_volume = eval(segments_volume)\n",
        "    segment_numbers = [ int(key) for key in segments_volume.keys()]\n",
        "    segments_volume = [ segments_volume[key] for key in segments_volume.keys()]\n",
        "    volume = np.sum(segments_volume)\n",
        "    weigths = [ segment_volume/volume for segment_volume in segments_volume]\n",
        "    hist = np.histogram(segment_numbers, weights=weigths, bins=max_subunit_count, range=(1,max_subunit_count+1))[0]\n",
        "    return hist\n",
        "\n",
        "\n",
        "def create_vect_connectivity(row):\n",
        "    euler_segments = row['euler_segments']\n",
        "    euler_segments = eval(euler_segments)\n",
        "    euler_seg_list = [ euler_segments[key] for key in euler_segments.keys()]\n",
        "    ft_vector = np.zeros((max_subunit_count))\n",
        "    ft_vector[:len(euler_seg_list)] = euler_seg_list\n",
        "    return ft_vector.tolist()\n",
        "\n",
        "\n",
        "features_df = tagged_df[['id','map_path','gt_subunits','gt_path']]\n",
        "features_df['vol_subunit'] = tagged_df.apply(create_vect_subunit_vol, axis=1)\n",
        "\n",
        "# Check for null values or 0\n",
        "\n",
        "array_to_check = np.array(features_df['vol_subunit'].tolist(), dtype=np.float32)\n",
        "has_nan = np.any(np.isnan(array_to_check), axis=1)\n",
        "\n",
        "# Remove nan samples\n",
        "features_df = features_df[~has_nan]\n",
        "\n",
        "\n",
        "# Check for zero samples\n",
        "all_zeroes = np.sum(array_to_check, axis=1)==0\n",
        "print(\"Number of samples with only 0s: {}\".format(np.sum(all_zeroes)))\n",
        "print(\"Number of samples with nan: {}\".format(np.sum(has_nan)))\n",
        "\n",
        "features_df['connectivity'] = tagged_df.apply(create_vect_connectivity, axis=1).tolist()\n",
        "\n",
        "#features_df['connectivity'] = adjacency_df.apply(create_vect_adjacency, axis=1).tolist()\n",
        "\n",
        "\n",
        "# Expand vector features from np arrays to column wise dataframe\n",
        "\n",
        "def expandArray(columns, array):\n",
        "  df = pd.DataFrame(array, columns=columns)\n",
        "  return df\n",
        "\n",
        "\n",
        "cname_vol_vec = [\"v\"+str(i) for i in range(0,60)]\n",
        "cname_connectivity_vec = [\"c\"+str(i) for i in range(0,60)]\n",
        "\n",
        "subunit_array = np.array(features_df['vol_subunit'].tolist())\n",
        "conectivity_array = np.array(features_df['connectivity'].tolist())\n",
        "\n",
        "subunit_array_df = expandArray(cname_vol_vec ,subunit_array)\n",
        "\n",
        "print(subunit_array_df.sample(5))\n",
        "print(len(subunit_array_df))\n",
        "\n",
        "conectivity_array_df = expandArray(cname_connectivity_vec, conectivity_array)\n",
        "print(conectivity_array_df.sample(5))\n",
        "print(len(conectivity_array_df))\n",
        "\n",
        "tagged_df.reset_index(drop=True, inplace=True)\n",
        "subunit_array_df.reset_index(drop=True, inplace=True)\n",
        "conectivity_array_df.reset_index(drop=True, inplace=True)\n",
        "\n",
        "features_df = pd.concat([tagged_df[['matched_subunits']], subunit_array_df], axis=1)\n",
        "features_df = pd.concat([features_df, conectivity_array_df], axis=1)\n",
        "\n",
        "print(features_df.sample(5))\n",
        "\n",
        "print(len(features_df))\n",
        "print(len(tagged_df))\n"
      ],
      "execution_count": null,
      "outputs": [
        {
          "output_type": "stream",
          "text": [
            "/usr/local/lib/python3.7/dist-packages/ipykernel_launcher.py:24: SettingWithCopyWarning: \n",
            "A value is trying to be set on a copy of a slice from a DataFrame.\n",
            "Try using .loc[row_indexer,col_indexer] = value instead\n",
            "\n",
            "See the caveats in the documentation: https://pandas.pydata.org/pandas-docs/stable/user_guide/indexing.html#returning-a-view-versus-a-copy\n"
          ],
          "name": "stderr"
        },
        {
          "output_type": "stream",
          "text": [
            "Number of samples with only 0s: 0\n",
            "Number of samples with nan: 0\n",
            "           v0        v1        v2        v3        v4  ...  v55  v56  v57  v58  v59\n",
            "177  0.027965  0.021490  0.017583  0.114130  0.032201  ...  0.0  0.0  0.0  0.0  0.0\n",
            "930  0.442659  0.008516  0.548824  0.000000  0.000000  ...  0.0  0.0  0.0  0.0  0.0\n",
            "153  0.114007  0.120145  0.145112  0.070296  0.024898  ...  0.0  0.0  0.0  0.0  0.0\n",
            "535  0.051982  0.088628  0.036381  0.004822  0.066187  ...  0.0  0.0  0.0  0.0  0.0\n",
            "488  0.085421  0.057940  0.083708  0.065640  0.051187  ...  0.0  0.0  0.0  0.0  0.0\n",
            "\n",
            "[5 rows x 60 columns]\n",
            "1313\n",
            "      c0   c1   c2   c3   c4   c5   c6  ...  c53  c54  c55  c56  c57  c58  c59\n",
            "617  0.0  1.0  0.0  1.0  1.0  1.0  1.0  ...  0.0  0.0  0.0  0.0  0.0  0.0  0.0\n",
            "847  1.0  1.0  1.0  1.0  1.0  1.0  1.0  ...  0.0  0.0  0.0  0.0  0.0  0.0  0.0\n",
            "999 -3.0  1.0  0.0  0.0  1.0  1.0  1.0  ...  0.0  0.0  0.0  0.0  0.0  0.0  0.0\n",
            "973  1.0  0.0  1.0  1.0  1.0  1.0  1.0  ...  0.0  0.0  0.0  0.0  0.0  0.0  0.0\n",
            "995 -3.0 -2.0  1.0  0.0  1.0  1.0  1.0  ...  0.0  0.0  0.0  0.0  0.0  0.0  0.0\n",
            "\n",
            "[5 rows x 60 columns]\n",
            "1313\n",
            "      matched_subunits        v0        v1        v2  ...  c56  c57  c58  c59\n",
            "1093                14  0.063856  0.056911  0.074087  ...  0.0  0.0  0.0  0.0\n",
            "982                  9  0.201753  0.205071  0.127797  ...  0.0  0.0  0.0  0.0\n",
            "502                 15  0.000464  0.077341  0.133206  ...  0.0  0.0  0.0  0.0\n",
            "1043                20  0.120235  0.078170  0.065421  ...  0.0  0.0  0.0  0.0\n",
            "827                  8  0.000000  0.000000  0.000000  ...  0.0  0.0  0.0  0.0\n",
            "\n",
            "[5 rows x 121 columns]\n",
            "1313\n",
            "1313\n"
          ],
          "name": "stdout"
        }
      ]
    },
    {
      "cell_type": "markdown",
      "metadata": {
        "id": "Wfh7EyVb79TK"
      },
      "source": [
        "## Compute "
      ]
    },
    {
      "cell_type": "markdown",
      "metadata": {
        "id": "jRIXui5LRtH1"
      },
      "source": [
        "## Normalize data and target encoding\n",
        "\n"
      ]
    },
    {
      "cell_type": "code",
      "metadata": {
        "colab": {
          "base_uri": "https://localhost:8080/"
        },
        "id": "XO5LwuaLQ3I7",
        "outputId": "f478ef0d-81f7-40bc-bd6b-e0b2223ca468"
      },
      "source": [
        "from sklearn.preprocessing import LabelEncoder\n",
        "  \n",
        "\n",
        "normalized_df=(features_df-features_df.min())/(features_df.max()-features_df.min())\n",
        "\n",
        "le =LabelEncoder()\n",
        "le.fit(tagged_df.label.tolist())\n",
        "normalized_df['label'] = le.transform(tagged_df.label.tolist())\n",
        "\n",
        "print('min')\n",
        "print(features_df.min().values)\n",
        "print('max')\n",
        "print(features_df.max().values)\n",
        "\n",
        "print(le.classes_)\n",
        "print(le.transform(le.classes_))\n",
        "\n"
      ],
      "execution_count": null,
      "outputs": [
        {
          "output_type": "stream",
          "text": [
            "min\n",
            "[   2.    0.    0.    0.    0.    0.    0.    0.    0.    0.    0.    0.\n",
            "    0.    0.    0.    0.    0.    0.    0.    0.    0.    0.    0.    0.\n",
            "    0.    0.    0.    0.    0.    0.    0.    0.    0.    0.    0.    0.\n",
            "    0.    0.    0.    0.    0.    0.    0.    0.    0.    0.    0.    0.\n",
            "    0.    0.    0.    0.    0.    0.    0.    0.    0.    0.    0.    0.\n",
            "    0. -152.  -56.  -35.  -67.  -29.  -26.  -28.  -40.  -25.  -32.  -32.\n",
            "  -25.  -16.  -27.  -13.   -9.  -28.  -11.  -14.  -25.  -19.  -13.  -11.\n",
            "   -8.  -25.  -30.  -30.  -30.  -30.   -6.  -32. -461.   -4.   -3.  -36.\n",
            "   -3.   -3.   -5.  -11.   -3.   -3.   -5.   -3.   -3.   -4.   -5.   -5.\n",
            "   -4.   -3.   -2.   -9.   -9.   -6.   -2.   -5.   -5.   -5.    0.    0.\n",
            "    0.]\n",
            "max\n",
            "[6.00000000e+01 9.99681351e-01 7.42918455e-01 9.29050051e-01\n",
            " 5.21594140e-01 6.34306557e-01 9.29050051e-01 4.94328160e-01\n",
            " 4.87711935e-01 4.98207008e-01 2.95542122e-01 4.35777611e-01\n",
            " 3.01317516e-01 2.82279151e-01 4.58980084e-01 4.31133339e-01\n",
            " 2.35659549e-01 2.22807083e-01 1.93021840e-01 1.35372520e-01\n",
            " 3.57839678e-01 1.80313258e-01 1.72111026e-01 1.11779975e-01\n",
            " 1.26686443e-01 1.25139822e-01 1.31950015e-01 1.80613564e-01\n",
            " 1.85390428e-01 9.30613564e-02 9.18065153e-02 8.82728485e-02\n",
            " 7.77530758e-01 1.10395215e-01 9.87761163e-02 8.84589572e-02\n",
            " 1.12166133e-01 7.29273427e-02 7.05511270e-02 8.52065877e-02\n",
            " 3.76810993e-01 8.33907366e-02 7.10520450e-02 3.76810993e-01\n",
            " 3.26286377e-01 3.76810993e-01 5.67455715e-01 2.36081822e-01\n",
            " 1.25500844e-01 2.25827710e-01 1.17118305e-01 8.52065877e-02\n",
            " 1.21098693e-01 1.22311261e-01 1.36809363e-01 1.36809363e-01\n",
            " 3.97220725e-01 7.42830030e-02 3.96936738e-02 3.94212183e-02\n",
            " 5.42837809e-02 1.00000000e+00 1.00000000e+00 1.00000000e+00\n",
            " 1.00000000e+00 1.00000000e+00 1.00000000e+00 1.00000000e+00\n",
            " 1.00000000e+00 1.00000000e+00 1.00000000e+00 1.00000000e+00\n",
            " 1.00000000e+00 1.00000000e+00 1.00000000e+00 1.00000000e+00\n",
            " 1.00000000e+00 1.00000000e+00 1.00000000e+00 1.00000000e+00\n",
            " 1.00000000e+00 1.00000000e+00 1.00000000e+00 1.00000000e+00\n",
            " 1.00000000e+00 1.00000000e+00 1.00000000e+00 1.00000000e+00\n",
            " 1.00000000e+00 1.00000000e+00 1.00000000e+00 1.00000000e+00\n",
            " 1.00000000e+00 1.00000000e+00 1.00000000e+00 1.00000000e+00\n",
            " 1.00000000e+00 1.00000000e+00 1.00000000e+00 1.00000000e+00\n",
            " 1.00000000e+00 1.00000000e+00 1.00000000e+00 1.00000000e+00\n",
            " 1.00000000e+00 1.00000000e+00 1.00000000e+00 1.00000000e+00\n",
            " 1.00000000e+00 1.00000000e+00 1.00000000e+00 1.00000000e+00\n",
            " 1.00000000e+00 1.00000000e+00 1.00000000e+00 1.00000000e+00\n",
            " 1.00000000e+00 1.00000000e+00 1.00000000e+00 1.00000000e+00\n",
            " 1.00000000e+00]\n",
            "['bad' 'good']\n",
            "[0 1]\n"
          ],
          "name": "stdout"
        }
      ]
    },
    {
      "cell_type": "markdown",
      "metadata": {
        "id": "-HUZyiVJnoYo"
      },
      "source": [
        "## Split data and k-fold training of models\n",
        "\n"
      ]
    },
    {
      "cell_type": "code",
      "metadata": {
        "id": "QjzDrqLsx-ba"
      },
      "source": [
        "from sklearn.model_selection import StratifiedKFold, train_test_split\n",
        "from sklearn.metrics import classification_report, plot_confusion_matrix, accuracy_score, make_scorer, plot_roc_curve, auc\n",
        "\n",
        "\n",
        "def classification_report_cm(y_true, y_pred, clf):\n",
        "  print(classification_report(y_true, y_pred, labels=le.transform(le.classes_)))\n",
        "  print(confusion_matrix(y_true, y_pred, labels=le.transform(le.classes_)))\n",
        "  return accuracy_score(y_true, y_pred)\n",
        "\n",
        "\n",
        "\n",
        "\n",
        "\n",
        "\n",
        "y = normalized_df['label']\n",
        "X = normalized_df.drop('label', axis=1)\n",
        "\n",
        "\n",
        "\n",
        "X_train, X_test, y_train, y_test = train_test_split(X, y, test_size=0.2, random_state=42)\n",
        "\n",
        "\n",
        "def train_and_plot_roc(clf, nfolds, X, y):\n",
        "  cv = StratifiedKFold(n_splits=nfolds)\n",
        "  tprs = []\n",
        "  aucs = []\n",
        "  mean_fpr = np.linspace(0, 1, 100)\n",
        "\n",
        "  fig, ax = plt.subplots(figsize=(3.5, 2.625))\n",
        "  for i, (train, test) in enumerate(cv.split(X, y)):\n",
        "    clf.fit(X[train], y[train])\n",
        "    viz = plot_roc_curve(clf, X[test], y[test],\n",
        "                         name='ROC fold {}'.format(i),\n",
        "                         alpha=0.3, lw=1, ax=ax)\n",
        "    interp_tpr = np.interp(mean_fpr, viz.fpr, viz.tpr)\n",
        "    interp_tpr[0] = 0.0\n",
        "    tprs.append(interp_tpr)\n",
        "    aucs.append(viz.roc_auc)\n",
        "\n",
        "  ax.plot([0, 1], [0, 1], linestyle='--', lw=1, color='#DDAA33',\n",
        "        label='Chance', alpha=.8)\n",
        "\n",
        "  mean_tpr = np.mean(tprs, axis=0)\n",
        "  mean_tpr[-1] = 1.0\n",
        "  mean_auc = auc(mean_fpr, mean_tpr)\n",
        "  std_auc = np.std(aucs)\n",
        "  ax.plot(mean_fpr, mean_tpr, color='#BB5566',\n",
        "        label=r'Mean ROC (AUC = %0.2f $\\pm$ %0.2f)' % (mean_auc, std_auc),\n",
        "        lw=2, alpha=.8)\n",
        "\n",
        "  std_tpr = np.std(tprs, axis=0)\n",
        "  tprs_upper = np.minimum(mean_tpr + std_tpr, 1)\n",
        "  tprs_lower = np.maximum(mean_tpr - std_tpr, 0)\n",
        "  ax.fill_between(mean_fpr, tprs_lower, tprs_upper, color='grey', alpha=.2,\n",
        "                label=r'$\\pm$ 1 std. dev.')\n",
        "\n",
        "  ax.set(xlim=[-0.05, 1.05], ylim=[-0.05, 1.05])\n",
        "  ax.legend( bbox_to_anchor=(1.05, 1), loc='upper left')\n",
        "  fig.savefig('train_roc.eps')\n",
        "\n",
        "\n"
      ],
      "execution_count": null,
      "outputs": []
    },
    {
      "cell_type": "markdown",
      "metadata": {
        "id": "mB5XRwSfeyAt"
      },
      "source": [
        "## Import GridSearch to find optimal model parameters"
      ]
    },
    {
      "cell_type": "code",
      "metadata": {
        "id": "0d1xmXgAe4Zc"
      },
      "source": [
        "from sklearn.model_selection import GridSearchCV"
      ],
      "execution_count": null,
      "outputs": []
    },
    {
      "cell_type": "markdown",
      "metadata": {
        "id": "0okj61ugeXG2"
      },
      "source": [
        "## Logistic Regression\n"
      ]
    },
    {
      "cell_type": "code",
      "metadata": {
        "colab": {
          "base_uri": "https://localhost:8080/"
        },
        "id": "N1Ytf9oJeZvW",
        "outputId": "3f6dfe66-5356-4fa9-c6bb-31f79fc3a2d0"
      },
      "source": [
        "from sklearn import linear_model\n",
        "\n",
        "# Parameter space\n",
        "C = [0.001,0.01,0.1,1,10,100,1000,10000]\n",
        "penalty = ['l1', 'l2']\n",
        "dual=[True,False]\n",
        "max_iter=[100,110,120,130,140]\n",
        "\n",
        "param_grid = dict(C=C,penalty=penalty, dual=dual, max_iter=max_iter)\n",
        "\n",
        "clf = linear_model.LogisticRegression(random_state=42)\n",
        "\n",
        "grid = GridSearchCV(estimator=clf, param_grid=param_grid, cv = 5, n_jobs=-1, scoring='roc_auc')\n",
        "\n",
        "start_time = time.time()\n",
        "grid_result = grid.fit(X_train, y_train)\n",
        "# Summarize results\n",
        "print(\"Best: %f using %s\" % (grid_result.best_score_, grid_result.best_params_))\n",
        "print(\"Execution time: \" + str((time.time() - start_time)) + ' ms')\n"
      ],
      "execution_count": null,
      "outputs": [
        {
          "output_type": "stream",
          "text": [
            "Best: 0.774287 using {'C': 10, 'dual': False, 'max_iter': 120, 'penalty': 'l2'}\n",
            "Execution time: 6.060771703720093 ms\n"
          ],
          "name": "stdout"
        },
        {
          "output_type": "stream",
          "text": [
            "/usr/local/lib/python3.6/dist-packages/sklearn/linear_model/_logistic.py:940: ConvergenceWarning: lbfgs failed to converge (status=1):\n",
            "STOP: TOTAL NO. of ITERATIONS REACHED LIMIT.\n",
            "\n",
            "Increase the number of iterations (max_iter) or scale the data as shown in:\n",
            "    https://scikit-learn.org/stable/modules/preprocessing.html\n",
            "Please also refer to the documentation for alternative solver options:\n",
            "    https://scikit-learn.org/stable/modules/linear_model.html#logistic-regression\n",
            "  extra_warning_msg=_LOGISTIC_SOLVER_CONVERGENCE_MSG)\n"
          ],
          "name": "stderr"
        }
      ]
    },
    {
      "cell_type": "markdown",
      "metadata": {
        "id": "UT70jQK4tqfZ"
      },
      "source": [
        "## SVM Classifier"
      ]
    },
    {
      "cell_type": "code",
      "metadata": {
        "colab": {
          "base_uri": "https://localhost:8080/"
        },
        "id": "6J9LtVO-tsvi",
        "outputId": "99ad4b42-bf6c-487d-a157-84e769fb56c2"
      },
      "source": [
        "from sklearn import svm\n",
        "\n",
        "# Parameter space\n",
        "C = [0.01,0.1,1,10,100,1000]\n",
        "gamma = [ 0.0001, 0.001, 0.01, 0.1, 1,10]\n",
        "kernel=['linear', 'poly', 'rbf', 'sigmoid']\n",
        "\n",
        "param_grid = dict(C=C,gamma=gamma, kernel=kernel)\n",
        "\n",
        "clf = svm.SVC(random_state=42)\n",
        "\n",
        "grid = GridSearchCV(estimator=clf, param_grid=param_grid, cv = 5, n_jobs=-1, scoring='roc_auc')\n",
        "\n",
        "start_time = time.time()\n",
        "grid_result = grid.fit(X_train, y_train)\n",
        "# Summarize results\n",
        "print(\"Best: %f using %s\" % (grid_result.best_score_, grid_result.best_params_))\n",
        "print(\"Execution time: \" + str((time.time() - start_time)) + ' ms')\n",
        "\n"
      ],
      "execution_count": null,
      "outputs": [
        {
          "output_type": "stream",
          "text": [
            "Best: 0.794826 using {'C': 0.1, 'gamma': 1, 'kernel': 'rbf'}\n",
            "Execution time: 4459.802588224411 ms\n"
          ],
          "name": "stdout"
        }
      ]
    },
    {
      "cell_type": "markdown",
      "metadata": {
        "id": "tFjDWjBuucZU"
      },
      "source": [
        "## MLP"
      ]
    },
    {
      "cell_type": "code",
      "metadata": {
        "colab": {
          "base_uri": "https://localhost:8080/"
        },
        "id": "lsi0jPdVumfw",
        "outputId": "ea46765b-6545-4947-a222-9e4d3f15d3ba"
      },
      "source": [
        "from sklearn.neural_network import MLPClassifier\n",
        "\n",
        "param_grid = {\n",
        "    'hidden_layer_sizes': [(50,50,50), (50,100,50), (100,)],\n",
        "    'activation': ['tanh', 'relu'],\n",
        "    'solver': ['sgd', 'adam'],\n",
        "    'alpha': [0.0001, 0.05],\n",
        "    'learning_rate': ['constant','adaptive'],\n",
        "}\n",
        "\n",
        "clf = MLPClassifier(random_state=42, max_iter=1000)\n",
        "grid = GridSearchCV(estimator=clf, param_grid=param_grid, cv = 5, n_jobs=-1, scoring='roc_auc')\n",
        "\n",
        "grid_result = grid.fit(X_train, y_train)\n",
        "# Summarize results\n",
        "print(\"Best: %f using %s\" % (grid_result.best_score_, grid_result.best_params_))\n",
        "print(\"Execution time: \" + str((time.time() - start_time)) + ' ms')\n"
      ],
      "execution_count": null,
      "outputs": [
        {
          "output_type": "stream",
          "text": [
            "Best: 0.784772 using {'activation': 'relu', 'alpha': 0.0001, 'hidden_layer_sizes': (100,), 'learning_rate': 'constant', 'solver': 'adam'}\n",
            "Execution time: 6946.878373384476 ms\n"
          ],
          "name": "stdout"
        }
      ]
    },
    {
      "cell_type": "markdown",
      "metadata": {
        "id": "_4o1GOagvggS"
      },
      "source": [
        "## Decission Tree"
      ]
    },
    {
      "cell_type": "code",
      "metadata": {
        "colab": {
          "base_uri": "https://localhost:8080/"
        },
        "id": "ZgeGoYT2unMU",
        "outputId": "26d41a31-7984-4370-e410-88485a67c34c"
      },
      "source": [
        " from sklearn.tree import DecisionTreeClassifier\n",
        "\n",
        "\n",
        "param_grid = { 'criterion':['gini','entropy'],'max_depth': np.arange(3, 15)}\n",
        "clf = DecisionTreeClassifier(random_state=42)\n",
        "grid = GridSearchCV(estimator=clf, param_grid=param_grid, cv = 5, n_jobs=-1, scoring='roc_auc')\n",
        "\n",
        "grid_result = grid.fit(X_train, y_train)\n",
        "# Summarize results\n",
        "print(\"Best: %f using %s\" % (grid_result.best_score_, grid_result.best_params_))\n",
        "print(\"Execution time: \" + str((time.time() - start_time)) + ' ms')\n"
      ],
      "execution_count": null,
      "outputs": [
        {
          "output_type": "stream",
          "text": [
            "Best: 0.735127 using {'criterion': 'gini', 'max_depth': 10}\n",
            "Execution time: 10192.676264047623 ms\n"
          ],
          "name": "stdout"
        }
      ]
    },
    {
      "cell_type": "markdown",
      "metadata": {
        "id": "AAthS0OfvvyH"
      },
      "source": [
        "## Random forest"
      ]
    },
    {
      "cell_type": "code",
      "metadata": {
        "colab": {
          "base_uri": "https://localhost:8080/"
        },
        "id": "B0RYUiTlvxt_",
        "outputId": "fca82313-38fa-410e-be22-f4e0c4ae6af1"
      },
      "source": [
        "from sklearn.ensemble import RandomForestClassifier\n",
        "\n",
        "clf =  RandomForestClassifier(random_state=42)\n",
        "\n",
        "param_grid = { \n",
        "    'n_estimators': [200, 300, 500, 700, 900, 1200],\n",
        "    'max_features': ['auto', 'sqrt', 'log2']\n",
        "}\n",
        "\n",
        "grid = GridSearchCV(estimator=clf, param_grid=param_grid, cv = 5, n_jobs=-1, scoring='roc_auc')\n",
        "\n",
        "grid_result = grid.fit(X_train, y_train)\n",
        "# Summarize results\n",
        "print(\"Best: %f using %s\" % (grid_result.best_score_, grid_result.best_params_))\n",
        "print(\"Execution time: \" + str((time.time() - start_time)) + ' ms')\n",
        "\n"
      ],
      "execution_count": null,
      "outputs": [
        {
          "output_type": "stream",
          "text": [
            "Best: 0.831025 using {'max_features': 'auto', 'n_estimators': 1200}\n",
            "Execution time: 10700.04130601883 ms\n"
          ],
          "name": "stdout"
        }
      ]
    },
    {
      "cell_type": "markdown",
      "metadata": {
        "id": "hz3EtMKfF4Y5"
      },
      "source": [
        "## Get ROC for best model"
      ]
    },
    {
      "cell_type": "code",
      "metadata": {
        "colab": {
          "base_uri": "https://localhost:8080/",
          "height": 1000
        },
        "id": "cUyU3ehOvyPn",
        "outputId": "4cef7095-3dd4-4a20-afc1-598292127996"
      },
      "source": [
        "from sklearn.ensemble import RandomForestClassifier\n",
        "\n",
        "clf =  RandomForestClassifier(random_state=42, n_estimators=1200, max_features='auto')\n",
        "\n",
        "\n",
        "#train\n",
        "print(\"Train ROC\")\n",
        "train_and_plot_roc(clf, 5, X.values, y.values)\n",
        "#test\n",
        "print(\"Test indexes\")\n",
        "print(tagged_df.iloc[X_test.index.values].id.values)\n",
        "\n",
        "fig, ax = plt.subplots(figsize=(3.5, 2.625))\n",
        "\n",
        "\n",
        "plot_roc_curve(clf,X_test,y_test,ax=ax, color='#BB5566')\n",
        "ax.legend( bbox_to_anchor=(1.05, 1), loc='upper left')\n",
        "\n",
        "plt.savefig('roc.eps')\n",
        "\n",
        "# save model\n",
        "\n",
        "pickle.dump(clf, open('classifier.pkl', 'wb'))\n"
      ],
      "execution_count": null,
      "outputs": [
        {
          "output_type": "stream",
          "text": [
            "Train ROC\n"
          ],
          "name": "stdout"
        },
        {
          "output_type": "stream",
          "text": [
            "The PostScript backend does not support transparency; partially transparent artists will be rendered opaque.\n",
            "The PostScript backend does not support transparency; partially transparent artists will be rendered opaque.\n",
            "The PostScript backend does not support transparency; partially transparent artists will be rendered opaque.\n",
            "The PostScript backend does not support transparency; partially transparent artists will be rendered opaque.\n",
            "The PostScript backend does not support transparency; partially transparent artists will be rendered opaque.\n",
            "The PostScript backend does not support transparency; partially transparent artists will be rendered opaque.\n",
            "The PostScript backend does not support transparency; partially transparent artists will be rendered opaque.\n",
            "The PostScript backend does not support transparency; partially transparent artists will be rendered opaque.\n",
            "The PostScript backend does not support transparency; partially transparent artists will be rendered opaque.\n",
            "The PostScript backend does not support transparency; partially transparent artists will be rendered opaque.\n",
            "The PostScript backend does not support transparency; partially transparent artists will be rendered opaque.\n",
            "The PostScript backend does not support transparency; partially transparent artists will be rendered opaque.\n",
            "The PostScript backend does not support transparency; partially transparent artists will be rendered opaque.\n",
            "The PostScript backend does not support transparency; partially transparent artists will be rendered opaque.\n",
            "The PostScript backend does not support transparency; partially transparent artists will be rendered opaque.\n",
            "The PostScript backend does not support transparency; partially transparent artists will be rendered opaque.\n",
            "The PostScript backend does not support transparency; partially transparent artists will be rendered opaque.\n",
            "The PostScript backend does not support transparency; partially transparent artists will be rendered opaque.\n",
            "The PostScript backend does not support transparency; partially transparent artists will be rendered opaque.\n"
          ],
          "name": "stderr"
        },
        {
          "output_type": "stream",
          "text": [
            "Test indexes\n",
            "['emd-1087' 'emd-6979' 'emd-20930' 'emd-8680' 'emd-8682' 'emd-3780'\n",
            " 'emd-3954' 'emd-1087' 'emd-9272' 'emd-2071' 'emd-5423' 'emd-9621'\n",
            " 'emd-4412' 'emd-5275' 'emd-11173' 'emd-2100' 'emd-10373' 'emd-4766'\n",
            " 'emd-11688' 'emd-7117' 'emd-10373' 'emd-2100' 'emd-2071' 'emd-9621'\n",
            " 'emd-21335' 'emd-4426' 'emd-11688' 'emd-8682' 'emd-8106' 'emd-20047'\n",
            " 'emd-8336' 'emd-4975' 'emd-4426' 'emd-2638' 'emd-3545' 'emd-9272'\n",
            " 'emd-8680' 'emd-8300' 'emd-8678' 'emd-3954' 'emd-8886' 'emd-9028'\n",
            " 'emd-9028' 'emd-5223' 'emd-5423' 'emd-5423' 'emd-9272' 'emd-8106'\n",
            " 'emd-10960' 'emd-3896' 'emd-11686' 'emd-7065' 'emd-4707' 'emd-5223'\n",
            " 'emd-9881' 'emd-3896' 'emd-8336' 'emd-4412' 'emd-4232' 'emd-5275'\n",
            " 'emd-11173' 'emd-4748' 'emd-7065' 'emd-4412' 'emd-3667' 'emd-0251'\n",
            " 'emd-2537' 'emd-5423' 'emd-6979' 'emd-10255' 'emd-3896' 'emd-20047'\n",
            " 'emd-10255' 'emd-0251' 'emd-5327' 'emd-1087' 'emd-4232' 'emd-20930'\n",
            " 'emd-0293' 'emd-10373' 'emd-3896' 'emd-3667' 'emd-7117' 'emd-7065'\n",
            " 'emd-9272' 'emd-7117' 'emd-4975' 'emd-5119' 'emd-3954' 'emd-11688'\n",
            " 'emd-8682' 'emd-11173' 'emd-2071' 'emd-11686' 'emd-8300' 'emd-8106'\n",
            " 'emd-8474' 'emd-5104' 'emd-10960' 'emd-3780' 'emd-2100' 'emd-4940'\n",
            " 'emd-2537' 'emd-4426' 'emd-10194' 'emd-3667' 'emd-21535' 'emd-4975'\n",
            " 'emd-20916' 'emd-9043' 'emd-4940' 'emd-4707' 'emd-4940' 'emd-11686'\n",
            " 'emd-9043' 'emd-3545' 'emd-21335' 'emd-3780' 'emd-9043' 'emd-8683'\n",
            " 'emd-4232' 'emd-10960' 'emd-5327' 'emd-4744' 'emd-3667' 'emd-5327'\n",
            " 'emd-3954' 'emd-6979' 'emd-11688' 'emd-4975' 'emd-4748' 'emd-9028'\n",
            " 'emd-8300' 'emd-10255' 'emd-10255' 'emd-4766' 'emd-0251' 'emd-11686'\n",
            " 'emd-8336' 'emd-9272' 'emd-7117' 'emd-4913' 'emd-0290' 'emd-20916'\n",
            " 'emd-21535' 'emd-5119' 'emd-4748' 'emd-11686' 'emd-11686' 'emd-11173'\n",
            " 'emd-4744' 'emd-4744' 'emd-21535' 'emd-7117' 'emd-3623' 'emd-3634'\n",
            " 'emd-10960' 'emd-8680' 'emd-8336' 'emd-5223' 'emd-5223' 'emd-8680'\n",
            " 'emd-2537' 'emd-0293' 'emd-10255' 'emd-2071' 'emd-5327' 'emd-10194'\n",
            " 'emd-4975' 'emd-4744' 'emd-11688' 'emd-3352' 'emd-2071' 'emd-3780'\n",
            " 'emd-4423' 'emd-4426' 'emd-3896' 'emd-5423' 'emd-4426' 'emd-3352'\n",
            " 'emd-8682' 'emd-5223' 'emd-9881' 'emd-10373' 'emd-21335' 'emd-3241'\n",
            " 'emd-9043' 'emd-6979' 'emd-5327' 'emd-4412' 'emd-0251' 'emd-5275'\n",
            " 'emd-11688' 'emd-3545' 'emd-3780' 'emd-7117' 'emd-4412' 'emd-10960'\n",
            " 'emd-2100' 'emd-8683' 'emd-3623' 'emd-8683' 'emd-5327' 'emd-20916'\n",
            " 'emd-9621' 'emd-9028' 'emd-8106' 'emd-4766' 'emd-6979' 'emd-5223'\n",
            " 'emd-6979' 'emd-4423' 'emd-5104' 'emd-3352' 'emd-4940' 'emd-3545'\n",
            " 'emd-4232' 'emd-11173' 'emd-8680' 'emd-9043' 'emd-11173' 'emd-8680'\n",
            " 'emd-3623' 'emd-3896' 'emd-4913' 'emd-5223' 'emd-5104' 'emd-1087'\n",
            " 'emd-4232' 'emd-4975' 'emd-4423' 'emd-1087' 'emd-21535' 'emd-20930'\n",
            " 'emd-3352' 'emd-2100' 'emd-8886' 'emd-6979' 'emd-3241' 'emd-1087'\n",
            " 'emd-3634' 'emd-2537' 'emd-4426' 'emd-10373' 'emd-0293' 'emd-9043'\n",
            " 'emd-9881' 'emd-2100' 'emd-4940' 'emd-5223' 'emd-5104' 'emd-1087'\n",
            " 'emd-9881' 'emd-4975' 'emd-4232' 'emd-2537' 'emd-4744' 'emd-2638'\n",
            " 'emd-3545' 'emd-8106' 'emd-8886' 'emd-3780' 'emd-8336']\n"
          ],
          "name": "stdout"
        },
        {
          "output_type": "display_data",
          "data": {
            "image/png": "[encoded data removed]",
            "text/plain": [
              "<Figure size 252x189 with 1 Axes>"
            ]
          },
          "metadata": {
            "tags": [],
            "needs_background": "light"
          }
        },
        {
          "output_type": "display_data",
          "data": {
            "image/png": "[encoded data removed]",
            "text/plain": [
              "<Figure size 252x189 with 1 Axes>"
            ]
          },
          "metadata": {
            "tags": [],
            "needs_background": "light"
          }
        }
      ]
    },
    {
      "cell_type": "code",
      "metadata": {
        "colab": {
          "base_uri": "https://localhost:8080/"
        },
        "id": "0C7hjXfGFXLb",
        "outputId": "813fb0a2-e8e6-4e6a-e5f4-fa1eeaa3f647"
      },
      "source": [
        " import sklearn\n",
        " print(sklearn.__version__)"
      ],
      "execution_count": null,
      "outputs": [
        {
          "output_type": "stream",
          "text": [
            "0.23.1\n"
          ],
          "name": "stdout"
        }
      ]
    },
    {
      "cell_type": "code",
      "metadata": {
        "id": "lWkILca6FaGk"
      },
      "source": [
        ""
      ],
      "execution_count": null,
      "outputs": []
    }
  ]
}