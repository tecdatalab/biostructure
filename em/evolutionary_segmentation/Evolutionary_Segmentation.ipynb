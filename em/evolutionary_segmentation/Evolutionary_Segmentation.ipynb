{
 "cells": [
  {
   "cell_type": "markdown",
   "metadata": {
    "id": "nZU-Otbj1Vu9"
   },
   "source": [
    "# Getting started: EvoSeg, an evolutionary automatic subunit segmentation\n",
    "\n",
    "This tutorial shows how to segment EM maps using an evolutionary approach.\n",
    "\n",
    "EvoSeg is a tool for automatic segmentation of EM Maps.\n",
    "\n",
    "The tutorial presents the usage and options to run the main Python program. "
   ]
  },
  {
   "cell_type": "markdown",
   "metadata": {},
   "source": [
    "## User Guide "
   ]
  },
  {
   "cell_type": "markdown",
   "metadata": {},
   "source": [
    "## Program command\n",
    "\n",
    "### Required\n",
    "\n",
    "- **--input_path** string \n",
    "    - EM Map in MRC Format with protein structure.\n",
    "- **--output_dir** string\n",
    "    - Output directory path to save output.\n",
    "- **--level** float\n",
    "    - Isosurface contour level\n",
    "    \n",
    "### Optional\n",
    "- **--init_size** int\n",
    "    - Size of initial population\n",
    "- **--n_mates** int\n",
    "    - Max number of matings per generation\n",
    "- **--p_mates** float\n",
    "    - Probability of combination \n",
    "- **--p_split** float\n",
    "    - Probability of split mutation\n",
    "- **--p_merge** float\n",
    "    - Probability of merge mutation\n",
    "- **--n_patience** int\n",
    "    - Max number of generations without improvements before stopping.\n",
    "- **--n_max** int\n",
    "    - Max number of generations.\n"
   ]
  },
  {
   "cell_type": "markdown",
   "metadata": {},
   "source": [
    "## Clone repo"
   ]
  },
  {
   "cell_type": "code",
   "execution_count": null,
   "metadata": {},
   "outputs": [],
   "source": [
    "!git clone https://github.com/tecdatalab/biostructure.git"
   ]
  },
  {
   "cell_type": "markdown",
   "metadata": {
    "id": "_-fWlrnx1VvD"
   },
   "source": [
    "## Add git repo to Python Path"
   ]
  },
  {
   "cell_type": "code",
   "execution_count": 2,
   "metadata": {
    "colab": {
     "base_uri": "https://localhost:8080/",
     "height": 903
    },
    "id": "EfexQVdW26I7",
    "outputId": "03cb5c8e-b2ea-4f98-b5f7-dc7705e44da6"
   },
   "outputs": [],
   "source": [
    "!export PYTHONPATH=$PYTHONPATH:/work/mzumbado/biostructure"
   ]
  },
  {
   "cell_type": "markdown",
   "metadata": {},
   "source": [
    "## Create output dir"
   ]
  },
  {
   "cell_type": "code",
   "execution_count": null,
   "metadata": {},
   "outputs": [],
   "source": [
    "!mkdir output"
   ]
  },
  {
   "cell_type": "markdown",
   "metadata": {
    "id": "0okj61ugeXG2"
   },
   "source": [
    "## Execute Script"
   ]
  },
  {
   "cell_type": "code",
   "execution_count": null,
   "metadata": {
    "id": "lWkILca6FaGk"
   },
   "outputs": [],
   "source": [
    "python evolutionary_segmentation/main.py --input_path input_map.mrc --output_dir output --level 1.0"
   ]
  }
 ],
 "metadata": {
  "colab": {
   "collapsed_sections": [],
   "name": "EMDB_EM_MAP_Segmentation.ipynb",
   "provenance": [],
   "toc_visible": true
  },
  "kernelspec": {
   "display_name": "Python 3",
   "language": "python",
   "name": "python3"
  },
  "language_info": {
   "codemirror_mode": {
    "name": "ipython",
    "version": 3
   },
   "file_extension": ".py",
   "mimetype": "text/x-python",
   "name": "python",
   "nbconvert_exporter": "python",
   "pygments_lexer": "ipython3",
   "version": "3.6.0"
  }
 },
 "nbformat": 4,
 "nbformat_minor": 1
}
